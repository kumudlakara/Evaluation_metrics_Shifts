{
  "nbformat": 4,
  "nbformat_minor": 0,
  "metadata": {
    "kernelspec": {
      "display_name": "yandex",
      "language": "python",
      "name": "yandex"
    },
    "language_info": {
      "codemirror_mode": {
        "name": "ipython",
        "version": 3
      },
      "file_extension": ".py",
      "mimetype": "text/x-python",
      "name": "python",
      "nbconvert_exporter": "python",
      "pygments_lexer": "ipython3",
      "version": "3.7.3"
    },
    "colab": {
      "name": "Shifts_evaluation_metrics.ipynb",
      "provenance": [],
      "collapsed_sections": [],
      "include_colab_link": true
    },
    "accelerator": "GPU"
  },
  "cells": [
    {
      "cell_type": "markdown",
      "metadata": {
        "id": "view-in-github",
        "colab_type": "text"
      },
      "source": [
        "<a href=\"https://colab.research.google.com/github/ptnv-s/Shifts_evaluation_metrics_regression/blob/main/Shifts_evaluation_metrics.ipynb\" target=\"_parent\"><img src=\"https://colab.research.google.com/assets/colab-badge.svg\" alt=\"Open In Colab\"/></a>"
      ]
    },
    {
      "cell_type": "markdown",
      "metadata": {
        "id": "-SAcKT71juUY"
      },
      "source": [
        "# Shifts_evaluation_metrics\n",
        "\n",
        "\n",
        "## Outline\n",
        "\n",
        "1. Repository download and Dataset Download\n",
        "2. Data loading\n",
        "3. Training & Saving\n",
        "4. Model loading\n",
        "5. Evaluation & Inference\n",
        "6. New Proposed Evaluation Metrics"
      ]
    },
    {
      "cell_type": "markdown",
      "metadata": {
        "id": "B1cFKk05juUh"
      },
      "source": [
        "## 1. Repository Download and Dataset Download\n",
        "\n",
        "\n",
        "\n",
        "\n",
        "The Github repository with useful scripts is at: [repo](https://github.com/yandex-research/shifts.git)\n",
        "\n",
        "Data is stored at: [data](https://storage.yandexcloud.net/yandex-research/shifts/weather/canonical-trn-dev-data.tar)"
      ]
    },
    {
      "cell_type": "code",
      "metadata": {
        "id": "ari7dmBfn97T"
      },
      "source": [
        "import numpy as np\n",
        "import pandas as pd\n",
        "import seaborn as sns\n",
        "import matplotlib.pyplot as plt"
      ],
      "execution_count": 1,
      "outputs": []
    },
    {
      "cell_type": "code",
      "metadata": {
        "colab": {
          "base_uri": "https://localhost:8080/"
        },
        "id": "8fNng-bojuUj",
        "outputId": "39c1791a-87a5-4885-983d-d761b2181bd4"
      },
      "source": [
        "# Clone the repository\n",
        "! git clone https://github.com/yandex-research/shifts"
      ],
      "execution_count": 2,
      "outputs": [
        {
          "output_type": "stream",
          "name": "stdout",
          "text": [
            "Cloning into 'shifts'...\n",
            "remote: Enumerating objects: 2401, done.\u001b[K\n",
            "remote: Counting objects: 100% (649/649), done.\u001b[K\n",
            "remote: Compressing objects: 100% (224/224), done.\u001b[K\n",
            "remote: Total 2401 (delta 435), reused 628 (delta 425), pack-reused 1752\u001b[K\n",
            "Receiving objects: 100% (2401/2401), 10.52 MiB | 3.34 MiB/s, done.\n",
            "Resolving deltas: 100% (1211/1211), done.\n"
          ]
        }
      ]
    },
    {
      "cell_type": "code",
      "metadata": {
        "id": "z9iQONtAjuUn"
      },
      "source": [
        "# Add to path\n",
        "import sys\n",
        "sys.path.append('../shifts/weather/')"
      ],
      "execution_count": 3,
      "outputs": []
    },
    {
      "cell_type": "code",
      "metadata": {
        "colab": {
          "base_uri": "https://localhost:8080/"
        },
        "id": "ml2wwzkGjuUp",
        "outputId": "2261aac8-1d13-4493-aef2-479a6766a4c0"
      },
      "source": [
        "# Download the data. Note, by downloading the data you agree to it's CC BY SA NC 4.0 license!\n",
        "! wget https://storage.yandexcloud.net/yandex-research/shifts/weather/canonical-trn-dev-data.tar"
      ],
      "execution_count": 4,
      "outputs": [
        {
          "output_type": "stream",
          "name": "stdout",
          "text": [
            "--2021-09-29 18:55:51--  https://storage.yandexcloud.net/yandex-research/shifts/weather/canonical-trn-dev-data.tar\n",
            "Resolving storage.yandexcloud.net (storage.yandexcloud.net)... 213.180.193.243, 2a02:6b8::1d9\n",
            "Connecting to storage.yandexcloud.net (storage.yandexcloud.net)|213.180.193.243|:443... connected.\n",
            "HTTP request sent, awaiting response... 200 OK\n",
            "Length: 5573713920 (5.2G) [application/x-tar]\n",
            "Saving to: ‘canonical-trn-dev-data.tar’\n",
            "\n",
            "canonical-trn-dev-d 100%[===================>]   5.19G  43.5MB/s    in 1m 44s  \n",
            "\n",
            "2021-09-29 18:57:35 (51.1 MB/s) - ‘canonical-trn-dev-data.tar’ saved [5573713920/5573713920]\n",
            "\n"
          ]
        }
      ]
    },
    {
      "cell_type": "markdown",
      "metadata": {
        "id": "5q7emfNejuUq"
      },
      "source": [
        "## 2. Data Loading\n",
        "\n",
        "All data is provided as csv files. You should have downloaded the following data files:\n",
        "\n",
        "- `train.csv`\n",
        "- `dev_in.csv`\n",
        "- `dev_out.csv`\n",
        "\n",
        "`dev_in` consists of data in-domain with `train` in terms of time and climate. `dev_out` consists of data shifted in time and climates with respect to `train`.\n"
      ]
    },
    {
      "cell_type": "code",
      "metadata": {
        "id": "VzPB3h3-mmCV"
      },
      "source": [
        "!mkdir Dataset"
      ],
      "execution_count": 5,
      "outputs": []
    },
    {
      "cell_type": "code",
      "metadata": {
        "id": "Q-zTuqlzmWnl"
      },
      "source": [
        "import shutil\n",
        "shutil.unpack_archive(\"/content/canonical-trn-dev-data.tar\", \"/content/Dataset/\")"
      ],
      "execution_count": 6,
      "outputs": []
    },
    {
      "cell_type": "code",
      "metadata": {
        "colab": {
          "base_uri": "https://localhost:8080/",
          "height": 308
        },
        "id": "XweupaJijuUr",
        "outputId": "1b537bf1-d82e-487c-c5a0-97b67cfb16bc"
      },
      "source": [
        "import pandas as pd\n",
        "\n",
        "# Load each data file as a pandas data frame\n",
        "df_train = pd.read_csv('/content/Dataset/data/train.csv')\n",
        "df_train.head()"
      ],
      "execution_count": 7,
      "outputs": [
        {
          "output_type": "execute_result",
          "data": {
            "text/html": [
              "<div>\n",
              "<style scoped>\n",
              "    .dataframe tbody tr th:only-of-type {\n",
              "        vertical-align: middle;\n",
              "    }\n",
              "\n",
              "    .dataframe tbody tr th {\n",
              "        vertical-align: top;\n",
              "    }\n",
              "\n",
              "    .dataframe thead th {\n",
              "        text-align: right;\n",
              "    }\n",
              "</style>\n",
              "<table border=\"1\" class=\"dataframe\">\n",
              "  <thead>\n",
              "    <tr style=\"text-align: right;\">\n",
              "      <th></th>\n",
              "      <th>fact_time</th>\n",
              "      <th>fact_latitude</th>\n",
              "      <th>fact_longitude</th>\n",
              "      <th>fact_temperature</th>\n",
              "      <th>fact_cwsm_class</th>\n",
              "      <th>climate</th>\n",
              "      <th>topography_bathymetry</th>\n",
              "      <th>sun_elevation</th>\n",
              "      <th>climate_temperature</th>\n",
              "      <th>climate_pressure</th>\n",
              "      <th>cmc_0_0_0_1000</th>\n",
              "      <th>cmc_0_0_0_2_grad</th>\n",
              "      <th>cmc_0_0_0_2_interpolated</th>\n",
              "      <th>cmc_0_0_0_2_next</th>\n",
              "      <th>cmc_0_0_0_2</th>\n",
              "      <th>cmc_0_0_0_500</th>\n",
              "      <th>cmc_0_0_0_700</th>\n",
              "      <th>cmc_0_0_0_850</th>\n",
              "      <th>cmc_0_0_0_925</th>\n",
              "      <th>cmc_0_0_6_2</th>\n",
              "      <th>cmc_0_0_7_1000</th>\n",
              "      <th>cmc_0_0_7_2</th>\n",
              "      <th>cmc_0_0_7_500</th>\n",
              "      <th>cmc_0_0_7_700</th>\n",
              "      <th>cmc_0_0_7_850</th>\n",
              "      <th>cmc_0_0_7_925</th>\n",
              "      <th>cmc_0_1_0_0</th>\n",
              "      <th>cmc_0_1_11_0</th>\n",
              "      <th>cmc_0_1_65_0</th>\n",
              "      <th>cmc_0_1_66_0</th>\n",
              "      <th>cmc_0_1_67_0</th>\n",
              "      <th>cmc_0_1_68_0</th>\n",
              "      <th>cmc_0_1_7_0</th>\n",
              "      <th>cmc_0_2_2_10</th>\n",
              "      <th>cmc_0_2_2_1000</th>\n",
              "      <th>cmc_0_2_2_500</th>\n",
              "      <th>cmc_0_2_2_700</th>\n",
              "      <th>cmc_0_2_2_850</th>\n",
              "      <th>cmc_0_2_2_925</th>\n",
              "      <th>cmc_0_2_3_10</th>\n",
              "      <th>...</th>\n",
              "      <th>gfs_temperature_90000</th>\n",
              "      <th>gfs_temperature_92500</th>\n",
              "      <th>gfs_temperature_95000</th>\n",
              "      <th>gfs_temperature_97500</th>\n",
              "      <th>gfs_temperature_sea</th>\n",
              "      <th>gfs_temperature_sea_grad</th>\n",
              "      <th>gfs_temperature_sea_interpolated</th>\n",
              "      <th>gfs_temperature_sea_next</th>\n",
              "      <th>gfs_timedelta_s</th>\n",
              "      <th>gfs_total_clouds_cover_high</th>\n",
              "      <th>gfs_total_clouds_cover_low</th>\n",
              "      <th>gfs_total_clouds_cover_middle</th>\n",
              "      <th>gfs_u_wind</th>\n",
              "      <th>gfs_v_wind</th>\n",
              "      <th>gfs_wind_speed</th>\n",
              "      <th>wrf_available</th>\n",
              "      <th>wrf_t2</th>\n",
              "      <th>wrf_t2_next</th>\n",
              "      <th>wrf_psfc</th>\n",
              "      <th>wrf_rh2</th>\n",
              "      <th>wrf_wind_u</th>\n",
              "      <th>wrf_wind_v</th>\n",
              "      <th>wrf_rain</th>\n",
              "      <th>wrf_snow</th>\n",
              "      <th>wrf_graupel</th>\n",
              "      <th>wrf_hail</th>\n",
              "      <th>wrf_t2_interpolated</th>\n",
              "      <th>wrf_t2_grad</th>\n",
              "      <th>cmc_0_1_65_0_grad</th>\n",
              "      <th>cmc_0_1_65_0_next</th>\n",
              "      <th>cmc_0_1_66_0_grad</th>\n",
              "      <th>cmc_0_1_66_0_next</th>\n",
              "      <th>cmc_0_1_67_0_grad</th>\n",
              "      <th>cmc_0_1_67_0_next</th>\n",
              "      <th>cmc_0_1_68_0_grad</th>\n",
              "      <th>cmc_0_1_68_0_next</th>\n",
              "      <th>gfs_2m_dewpoint_grad</th>\n",
              "      <th>gfs_2m_dewpoint_next</th>\n",
              "      <th>gfs_total_clouds_cover_low_grad</th>\n",
              "      <th>gfs_total_clouds_cover_low_next</th>\n",
              "    </tr>\n",
              "  </thead>\n",
              "  <tbody>\n",
              "    <tr>\n",
              "      <th>0</th>\n",
              "      <td>1.543321e+09</td>\n",
              "      <td>26.968800</td>\n",
              "      <td>-99.248901</td>\n",
              "      <td>2.0</td>\n",
              "      <td>0.0</td>\n",
              "      <td>dry</td>\n",
              "      <td>127.0</td>\n",
              "      <td>-17.526443</td>\n",
              "      <td>14.613571</td>\n",
              "      <td>754.263405</td>\n",
              "      <td>282.702881</td>\n",
              "      <td>6.684790</td>\n",
              "      <td>276.300439</td>\n",
              "      <td>282.985229</td>\n",
              "      <td>276.300439</td>\n",
              "      <td>262.333789</td>\n",
              "      <td>276.962134</td>\n",
              "      <td>280.083057</td>\n",
              "      <td>281.141064</td>\n",
              "      <td>272.500946</td>\n",
              "      <td>14.250</td>\n",
              "      <td>3.750</td>\n",
              "      <td>29.905515</td>\n",
              "      <td>15.500</td>\n",
              "      <td>29.750</td>\n",
              "      <td>15.750</td>\n",
              "      <td>0.0034</td>\n",
              "      <td>0.0</td>\n",
              "      <td>0.00000</td>\n",
              "      <td>0.0</td>\n",
              "      <td>0.0</td>\n",
              "      <td>0.0</td>\n",
              "      <td>0.00000</td>\n",
              "      <td>-1.327548</td>\n",
              "      <td>-2.914091</td>\n",
              "      <td>18.357608</td>\n",
              "      <td>8.480661</td>\n",
              "      <td>-1.510544</td>\n",
              "      <td>-0.465033</td>\n",
              "      <td>-0.126199</td>\n",
              "      <td>...</td>\n",
              "      <td>7.345331</td>\n",
              "      <td>7.926080</td>\n",
              "      <td>8.841516</td>\n",
              "      <td>9.350854</td>\n",
              "      <td>9.077112</td>\n",
              "      <td>1.966156</td>\n",
              "      <td>9.077112</td>\n",
              "      <td>11.043268</td>\n",
              "      <td>0.0</td>\n",
              "      <td>0.0</td>\n",
              "      <td>0.0</td>\n",
              "      <td>0.0</td>\n",
              "      <td>-2.328149</td>\n",
              "      <td>0.509014</td>\n",
              "      <td>2.383144</td>\n",
              "      <td>1.0</td>\n",
              "      <td>280.888000</td>\n",
              "      <td>280.420593</td>\n",
              "      <td>100927.414062</td>\n",
              "      <td>0.623658</td>\n",
              "      <td>-2.533346</td>\n",
              "      <td>-3.091468</td>\n",
              "      <td>0.0</td>\n",
              "      <td>0.0</td>\n",
              "      <td>0.0</td>\n",
              "      <td>0.0</td>\n",
              "      <td>280.888000</td>\n",
              "      <td>-0.467407</td>\n",
              "      <td>0.000000</td>\n",
              "      <td>0.000000</td>\n",
              "      <td>0.0</td>\n",
              "      <td>0.0</td>\n",
              "      <td>0.0</td>\n",
              "      <td>0.0</td>\n",
              "      <td>0.0</td>\n",
              "      <td>0.0</td>\n",
              "      <td>-2.600006</td>\n",
              "      <td>-2.750006</td>\n",
              "      <td>0.0</td>\n",
              "      <td>0.0</td>\n",
              "    </tr>\n",
              "    <tr>\n",
              "      <th>1</th>\n",
              "      <td>1.538776e+09</td>\n",
              "      <td>29.374201</td>\n",
              "      <td>-100.927002</td>\n",
              "      <td>31.0</td>\n",
              "      <td>20.0</td>\n",
              "      <td>mild temperate</td>\n",
              "      <td>297.0</td>\n",
              "      <td>41.531032</td>\n",
              "      <td>26.992143</td>\n",
              "      <td>733.117168</td>\n",
              "      <td>305.860669</td>\n",
              "      <td>-1.361548</td>\n",
              "      <td>303.629541</td>\n",
              "      <td>302.267993</td>\n",
              "      <td>303.629541</td>\n",
              "      <td>267.178882</td>\n",
              "      <td>286.211719</td>\n",
              "      <td>291.642969</td>\n",
              "      <td>298.615479</td>\n",
              "      <td>293.701019</td>\n",
              "      <td>11.500</td>\n",
              "      <td>9.875</td>\n",
              "      <td>22.468424</td>\n",
              "      <td>26.500</td>\n",
              "      <td>1.375</td>\n",
              "      <td>6.250</td>\n",
              "      <td>0.0172</td>\n",
              "      <td>0.0</td>\n",
              "      <td>5.67340</td>\n",
              "      <td>0.0</td>\n",
              "      <td>0.0</td>\n",
              "      <td>0.0</td>\n",
              "      <td>0.00000</td>\n",
              "      <td>-3.568011</td>\n",
              "      <td>-3.632005</td>\n",
              "      <td>4.370947</td>\n",
              "      <td>0.653320</td>\n",
              "      <td>-3.227249</td>\n",
              "      <td>-4.499048</td>\n",
              "      <td>7.287793</td>\n",
              "      <td>...</td>\n",
              "      <td>24.699792</td>\n",
              "      <td>27.050012</td>\n",
              "      <td>29.526605</td>\n",
              "      <td>31.950006</td>\n",
              "      <td>32.831812</td>\n",
              "      <td>-2.257446</td>\n",
              "      <td>32.831812</td>\n",
              "      <td>30.574365</td>\n",
              "      <td>0.0</td>\n",
              "      <td>0.0</td>\n",
              "      <td>23.0</td>\n",
              "      <td>0.0</td>\n",
              "      <td>-3.851841</td>\n",
              "      <td>7.031523</td>\n",
              "      <td>8.017418</td>\n",
              "      <td>1.0</td>\n",
              "      <td>302.893005</td>\n",
              "      <td>303.356781</td>\n",
              "      <td>97645.507812</td>\n",
              "      <td>0.651412</td>\n",
              "      <td>-3.482976</td>\n",
              "      <td>5.238701</td>\n",
              "      <td>0.0</td>\n",
              "      <td>0.0</td>\n",
              "      <td>0.0</td>\n",
              "      <td>0.0</td>\n",
              "      <td>302.893005</td>\n",
              "      <td>0.463776</td>\n",
              "      <td>0.000000</td>\n",
              "      <td>5.673400</td>\n",
              "      <td>0.0</td>\n",
              "      <td>0.0</td>\n",
              "      <td>0.0</td>\n",
              "      <td>0.0</td>\n",
              "      <td>0.0</td>\n",
              "      <td>0.0</td>\n",
              "      <td>-0.600006</td>\n",
              "      <td>17.950006</td>\n",
              "      <td>-12.0</td>\n",
              "      <td>11.0</td>\n",
              "    </tr>\n",
              "    <tr>\n",
              "      <th>2</th>\n",
              "      <td>1.552115e+09</td>\n",
              "      <td>22.149599</td>\n",
              "      <td>113.592003</td>\n",
              "      <td>17.0</td>\n",
              "      <td>10.0</td>\n",
              "      <td>mild temperate</td>\n",
              "      <td>-1.0</td>\n",
              "      <td>43.916531</td>\n",
              "      <td>18.842143</td>\n",
              "      <td>761.571076</td>\n",
              "      <td>294.469702</td>\n",
              "      <td>0.282837</td>\n",
              "      <td>295.153361</td>\n",
              "      <td>295.341919</td>\n",
              "      <td>295.059082</td>\n",
              "      <td>268.584375</td>\n",
              "      <td>280.319653</td>\n",
              "      <td>288.922583</td>\n",
              "      <td>292.259375</td>\n",
              "      <td>293.914505</td>\n",
              "      <td>0.750</td>\n",
              "      <td>1.000</td>\n",
              "      <td>25.403430</td>\n",
              "      <td>1.625</td>\n",
              "      <td>2.375</td>\n",
              "      <td>0.125</td>\n",
              "      <td>0.0161</td>\n",
              "      <td>0.0</td>\n",
              "      <td>82.66500</td>\n",
              "      <td>0.0</td>\n",
              "      <td>0.0</td>\n",
              "      <td>0.0</td>\n",
              "      <td>0.00003</td>\n",
              "      <td>0.674461</td>\n",
              "      <td>0.812148</td>\n",
              "      <td>28.046518</td>\n",
              "      <td>20.135425</td>\n",
              "      <td>11.603281</td>\n",
              "      <td>5.047708</td>\n",
              "      <td>1.483844</td>\n",
              "      <td>...</td>\n",
              "      <td>17.325555</td>\n",
              "      <td>18.692010</td>\n",
              "      <td>20.252496</td>\n",
              "      <td>21.868280</td>\n",
              "      <td>23.101434</td>\n",
              "      <td>0.287476</td>\n",
              "      <td>23.197260</td>\n",
              "      <td>23.388910</td>\n",
              "      <td>3600.0</td>\n",
              "      <td>0.0</td>\n",
              "      <td>7.0</td>\n",
              "      <td>0.0</td>\n",
              "      <td>1.512065</td>\n",
              "      <td>4.074417</td>\n",
              "      <td>4.345942</td>\n",
              "      <td>1.0</td>\n",
              "      <td>295.782043</td>\n",
              "      <td>295.726929</td>\n",
              "      <td>100751.773438</td>\n",
              "      <td>0.989764</td>\n",
              "      <td>3.433286</td>\n",
              "      <td>5.181113</td>\n",
              "      <td>0.0</td>\n",
              "      <td>0.0</td>\n",
              "      <td>0.0</td>\n",
              "      <td>0.0</td>\n",
              "      <td>295.782043</td>\n",
              "      <td>-0.055115</td>\n",
              "      <td>0.771400</td>\n",
              "      <td>83.436400</td>\n",
              "      <td>0.0</td>\n",
              "      <td>0.0</td>\n",
              "      <td>0.0</td>\n",
              "      <td>0.0</td>\n",
              "      <td>0.0</td>\n",
              "      <td>0.0</td>\n",
              "      <td>-0.233978</td>\n",
              "      <td>21.450006</td>\n",
              "      <td>1.0</td>\n",
              "      <td>8.0</td>\n",
              "    </tr>\n",
              "    <tr>\n",
              "      <th>3</th>\n",
              "      <td>1.549566e+09</td>\n",
              "      <td>34.678699</td>\n",
              "      <td>-86.684799</td>\n",
              "      <td>24.0</td>\n",
              "      <td>20.0</td>\n",
              "      <td>mild temperate</td>\n",
              "      <td>193.0</td>\n",
              "      <td>40.240955</td>\n",
              "      <td>8.303571</td>\n",
              "      <td>747.524910</td>\n",
              "      <td>295.118774</td>\n",
              "      <td>1.091162</td>\n",
              "      <td>296.376611</td>\n",
              "      <td>297.467773</td>\n",
              "      <td>296.376611</td>\n",
              "      <td>262.566675</td>\n",
              "      <td>278.622852</td>\n",
              "      <td>285.923389</td>\n",
              "      <td>290.274927</td>\n",
              "      <td>288.752838</td>\n",
              "      <td>6.125</td>\n",
              "      <td>7.500</td>\n",
              "      <td>5.767445</td>\n",
              "      <td>14.000</td>\n",
              "      <td>4.875</td>\n",
              "      <td>4.125</td>\n",
              "      <td>0.0120</td>\n",
              "      <td>0.0</td>\n",
              "      <td>4.08775</td>\n",
              "      <td>0.0</td>\n",
              "      <td>0.0</td>\n",
              "      <td>0.0</td>\n",
              "      <td>0.00000</td>\n",
              "      <td>2.791129</td>\n",
              "      <td>2.760229</td>\n",
              "      <td>29.527142</td>\n",
              "      <td>25.678796</td>\n",
              "      <td>14.091809</td>\n",
              "      <td>6.503445</td>\n",
              "      <td>6.488293</td>\n",
              "      <td>...</td>\n",
              "      <td>12.791437</td>\n",
              "      <td>13.875513</td>\n",
              "      <td>15.751978</td>\n",
              "      <td>17.743524</td>\n",
              "      <td>19.321313</td>\n",
              "      <td>2.133026</td>\n",
              "      <td>19.321313</td>\n",
              "      <td>21.454340</td>\n",
              "      <td>0.0</td>\n",
              "      <td>21.0</td>\n",
              "      <td>99.0</td>\n",
              "      <td>0.0</td>\n",
              "      <td>2.277510</td>\n",
              "      <td>7.151445</td>\n",
              "      <td>7.505346</td>\n",
              "      <td>1.0</td>\n",
              "      <td>295.235687</td>\n",
              "      <td>296.000824</td>\n",
              "      <td>99450.273438</td>\n",
              "      <td>0.749565</td>\n",
              "      <td>-0.158933</td>\n",
              "      <td>8.494842</td>\n",
              "      <td>0.0</td>\n",
              "      <td>0.0</td>\n",
              "      <td>0.0</td>\n",
              "      <td>0.0</td>\n",
              "      <td>295.235687</td>\n",
              "      <td>0.765137</td>\n",
              "      <td>0.000000</td>\n",
              "      <td>4.087750</td>\n",
              "      <td>0.0</td>\n",
              "      <td>0.0</td>\n",
              "      <td>0.0</td>\n",
              "      <td>0.0</td>\n",
              "      <td>0.0</td>\n",
              "      <td>0.0</td>\n",
              "      <td>0.059448</td>\n",
              "      <td>16.150018</td>\n",
              "      <td>-58.0</td>\n",
              "      <td>41.0</td>\n",
              "    </tr>\n",
              "    <tr>\n",
              "      <th>4</th>\n",
              "      <td>1.552910e+09</td>\n",
              "      <td>46.066667</td>\n",
              "      <td>41.966667</td>\n",
              "      <td>9.0</td>\n",
              "      <td>20.0</td>\n",
              "      <td>dry</td>\n",
              "      <td>90.0</td>\n",
              "      <td>30.394660</td>\n",
              "      <td>6.451429</td>\n",
              "      <td>753.168113</td>\n",
              "      <td>281.233203</td>\n",
              "      <td>-1.461133</td>\n",
              "      <td>282.810181</td>\n",
              "      <td>281.349048</td>\n",
              "      <td>282.810181</td>\n",
              "      <td>242.905981</td>\n",
              "      <td>258.822461</td>\n",
              "      <td>269.483154</td>\n",
              "      <td>274.965063</td>\n",
              "      <td>275.815735</td>\n",
              "      <td>7.000</td>\n",
              "      <td>6.875</td>\n",
              "      <td>19.727903</td>\n",
              "      <td>4.125</td>\n",
              "      <td>1.000</td>\n",
              "      <td>2.250</td>\n",
              "      <td>0.0057</td>\n",
              "      <td>0.0</td>\n",
              "      <td>4.04475</td>\n",
              "      <td>0.0</td>\n",
              "      <td>0.0</td>\n",
              "      <td>0.0</td>\n",
              "      <td>0.00000</td>\n",
              "      <td>2.635770</td>\n",
              "      <td>3.278284</td>\n",
              "      <td>8.752283</td>\n",
              "      <td>6.223914</td>\n",
              "      <td>3.826746</td>\n",
              "      <td>3.674579</td>\n",
              "      <td>-1.011131</td>\n",
              "      <td>...</td>\n",
              "      <td>0.783167</td>\n",
              "      <td>2.854852</td>\n",
              "      <td>5.040155</td>\n",
              "      <td>7.147913</td>\n",
              "      <td>10.949976</td>\n",
              "      <td>-1.080627</td>\n",
              "      <td>10.949976</td>\n",
              "      <td>9.869348</td>\n",
              "      <td>0.0</td>\n",
              "      <td>0.0</td>\n",
              "      <td>74.0</td>\n",
              "      <td>9.0</td>\n",
              "      <td>2.866836</td>\n",
              "      <td>-1.849202</td>\n",
              "      <td>3.411494</td>\n",
              "      <td>1.0</td>\n",
              "      <td>281.861969</td>\n",
              "      <td>282.492462</td>\n",
              "      <td>100790.546875</td>\n",
              "      <td>0.707056</td>\n",
              "      <td>1.406434</td>\n",
              "      <td>1.084141</td>\n",
              "      <td>0.0</td>\n",
              "      <td>0.0</td>\n",
              "      <td>0.0</td>\n",
              "      <td>0.0</td>\n",
              "      <td>281.861969</td>\n",
              "      <td>0.630493</td>\n",
              "      <td>0.142125</td>\n",
              "      <td>4.186875</td>\n",
              "      <td>0.0</td>\n",
              "      <td>0.0</td>\n",
              "      <td>0.0</td>\n",
              "      <td>0.0</td>\n",
              "      <td>0.0</td>\n",
              "      <td>0.0</td>\n",
              "      <td>0.400024</td>\n",
              "      <td>3.150018</td>\n",
              "      <td>18.0</td>\n",
              "      <td>92.0</td>\n",
              "    </tr>\n",
              "  </tbody>\n",
              "</table>\n",
              "<p>5 rows × 129 columns</p>\n",
              "</div>"
            ],
            "text/plain": [
              "      fact_time  ...  gfs_total_clouds_cover_low_next\n",
              "0  1.543321e+09  ...                              0.0\n",
              "1  1.538776e+09  ...                             11.0\n",
              "2  1.552115e+09  ...                              8.0\n",
              "3  1.549566e+09  ...                             41.0\n",
              "4  1.552910e+09  ...                             92.0\n",
              "\n",
              "[5 rows x 129 columns]"
            ]
          },
          "metadata": {},
          "execution_count": 7
        }
      ]
    },
    {
      "cell_type": "code",
      "metadata": {
        "id": "fu2qm1HKjuUv"
      },
      "source": [
        "df_dev_in = pd.read_csv('/content/Dataset/data/dev_in.csv')\n",
        "df_dev_out = pd.read_csv('/content/Dataset/data/dev_out.csv')"
      ],
      "execution_count": 8,
      "outputs": []
    },
    {
      "cell_type": "code",
      "metadata": {
        "id": "1z-0LI9LkYYS"
      },
      "source": [
        "# Visualize the temperature range in the data\n",
        "def visualize_temperatures(df_list, df_names, plot_type='histogram'):\n",
        "    '''\n",
        "    Compare the distribution of temperature labels in datasets\n",
        "\n",
        "    Supported visualization formats:\n",
        "     - histogram\n",
        "     - violin\n",
        "    '''\n",
        "    temperatures = np.concatenate([df['fact_temperature'] for df in df_list])\n",
        "    names = np.concatenate([[name]*len(df) for name, df in zip(df_names, df_list)])\n",
        "    df_to_plot = pd.DataFrame(data={'Temperature': temperatures, 'Dataset Name':names})\n",
        "\n",
        "    if plot_type == 'histogram':\n",
        "        sns.histplot(\n",
        "            data=df_to_plot, x=\"Temperature\", hue=\"Dataset Name\",\n",
        "            element=\"step\", stat=\"density\", common_norm=False)\n",
        "    elif plot_type == 'violin':\n",
        "        sns.violinplot(x='Temperature', y='Dataset Name',\n",
        "                              data=df_to_plot, scale='width', palette='Set3')\n",
        "    else:\n",
        "        raise ValueError(\"Unsupported plot_type\")\n",
        "    \n",
        "    plt.show()\n",
        "    plt.clf()"
      ],
      "execution_count": 9,
      "outputs": []
    },
    {
      "cell_type": "code",
      "metadata": {
        "id": "pM8rWHLkjuUx"
      },
      "source": [
        "df_names = ['train', 'dev_in', 'dev_out']\n",
        "df_list = [df_train, df_dev_in, df_dev_out]"
      ],
      "execution_count": 10,
      "outputs": []
    },
    {
      "cell_type": "code",
      "metadata": {
        "colab": {
          "base_uri": "https://localhost:8080/",
          "height": 296
        },
        "id": "JKtcunYMjuUz",
        "outputId": "0bc0307f-2e9b-4f22-d3bb-d767d732950a"
      },
      "source": [
        "# Violin Plot\n",
        "visualize_temperatures(df_list, df_names, plot_type='violin')"
      ],
      "execution_count": 11,
      "outputs": [
        {
          "output_type": "display_data",
          "data": {
            "image/png": "[encoded data removed]",
            "text/plain": [
              "<Figure size 432x288 with 1 Axes>"
            ]
          },
          "metadata": {
            "needs_background": "light"
          }
        },
        {
          "output_type": "display_data",
          "data": {
            "text/plain": [
              "<Figure size 432x288 with 0 Axes>"
            ]
          },
          "metadata": {}
        }
      ]
    },
    {
      "cell_type": "code",
      "metadata": {
        "colab": {
          "base_uri": "https://localhost:8080/",
          "height": 296
        },
        "id": "1B6E7MhcjuU0",
        "outputId": "c6af1708-46c3-461c-a3b3-62deb7abe7a8"
      },
      "source": [
        "# Histogram\n",
        "visualize_temperatures(df_list, df_names, plot_type='histogram')"
      ],
      "execution_count": 12,
      "outputs": [
        {
          "output_type": "display_data",
          "data": {
            "image/png": "[encoded data removed]",
            "text/plain": [
              "<Figure size 432x288 with 1 Axes>"
            ]
          },
          "metadata": {
            "needs_background": "light"
          }
        },
        {
          "output_type": "display_data",
          "data": {
            "text/plain": [
              "<Figure size 432x288 with 0 Axes>"
            ]
          },
          "metadata": {}
        }
      ]
    },
    {
      "cell_type": "markdown",
      "metadata": {
        "id": "H8Yv7gQojuU1"
      },
      "source": [
        "## 3. Training and Saving\n",
        "\n",
        "### Training\n",
        "\n",
        "In this analysis, the `CatBoostRegressor` is used as the model.\n",
        "- An ensemble of models are trained.\n",
        "- We use `RMSEWithUncertainty` as the loss function during training time in order to be able to calculate uncertainty measures during inference.\n",
        "- The models are trained using `df_train` and the hyperparameters should be finetuned using `df_dev_in`."
      ]
    },
    {
      "cell_type": "code",
      "metadata": {
        "id": "-Wa47lYWjuU2"
      },
      "source": [
        "# Extract features and targets, and remove redundant meta-data\n",
        "X_train = df_train.iloc[:,6:]\n",
        "X_dev_in = df_dev_in.iloc[:,6:]\n",
        "y_train = df_train['fact_temperature']\n",
        "y_dev_in = df_dev_in['fact_temperature']"
      ],
      "execution_count": 13,
      "outputs": []
    },
    {
      "cell_type": "code",
      "metadata": {
        "id": "fX0oAQCXjuU2"
      },
      "source": [
        "# Set training hyperparameters (note these are dummy hyperparameters - you will need to select your own)\n",
        "ensemble_size = 3\n",
        "depth = 2\n",
        "iterations = 200\n",
        "learning_rate = 0.03"
      ],
      "execution_count": 14,
      "outputs": []
    },
    {
      "cell_type": "code",
      "metadata": {
        "colab": {
          "base_uri": "https://localhost:8080/"
        },
        "id": "4K6elO2qjuU3",
        "outputId": "2cf8107a-d670-43f8-8833-2fbbdd240c96"
      },
      "source": [
        "# Train ensemble of models\n",
        "!pip install catboost\n",
        "import catboost\n",
        "\n",
        "trained_models = []\n",
        "for seed in range(ensemble_size):\n",
        "    \n",
        "    model = catboost.CatBoostRegressor(\n",
        "        learning_rate = learning_rate,\n",
        "        iterations = iterations,\n",
        "        depth = depth,\n",
        "        loss_function = 'RMSEWithUncertainty',\n",
        "        eval_metric = 'RMSE',\n",
        "        random_seed = seed)\n",
        "    \n",
        "    print(f'\\n Model index: {seed}\\n')\n",
        "    \n",
        "    model.fit(\n",
        "        X_train,\n",
        "        y_train,\n",
        "        verbose = 100,\n",
        "        eval_set = (X_dev_in, y_dev_in))\n",
        "    \n",
        "    trained_models.append(model)"
      ],
      "execution_count": 15,
      "outputs": [
        {
          "output_type": "stream",
          "name": "stdout",
          "text": [
            "Collecting catboost\n",
            "  Downloading catboost-0.26.1-cp37-none-manylinux1_x86_64.whl (67.4 MB)\n",
            "\u001b[K     |████████████████████████████████| 67.4 MB 57 kB/s \n",
            "\u001b[?25hRequirement already satisfied: graphviz in /usr/local/lib/python3.7/dist-packages (from catboost) (0.10.1)\n",
            "Requirement already satisfied: plotly in /usr/local/lib/python3.7/dist-packages (from catboost) (4.4.1)\n",
            "Requirement already satisfied: pandas>=0.24.0 in /usr/local/lib/python3.7/dist-packages (from catboost) (1.1.5)\n",
            "Requirement already satisfied: numpy>=1.16.0 in /usr/local/lib/python3.7/dist-packages (from catboost) (1.19.5)\n",
            "Requirement already satisfied: matplotlib in /usr/local/lib/python3.7/dist-packages (from catboost) (3.2.2)\n",
            "Requirement already satisfied: six in /usr/local/lib/python3.7/dist-packages (from catboost) (1.15.0)\n",
            "Requirement already satisfied: scipy in /usr/local/lib/python3.7/dist-packages (from catboost) (1.4.1)\n",
            "Requirement already satisfied: python-dateutil>=2.7.3 in /usr/local/lib/python3.7/dist-packages (from pandas>=0.24.0->catboost) (2.8.2)\n",
            "Requirement already satisfied: pytz>=2017.2 in /usr/local/lib/python3.7/dist-packages (from pandas>=0.24.0->catboost) (2018.9)\n",
            "Requirement already satisfied: kiwisolver>=1.0.1 in /usr/local/lib/python3.7/dist-packages (from matplotlib->catboost) (1.3.2)\n",
            "Requirement already satisfied: pyparsing!=2.0.4,!=2.1.2,!=2.1.6,>=2.0.1 in /usr/local/lib/python3.7/dist-packages (from matplotlib->catboost) (2.4.7)\n",
            "Requirement already satisfied: cycler>=0.10 in /usr/local/lib/python3.7/dist-packages (from matplotlib->catboost) (0.10.0)\n",
            "Requirement already satisfied: retrying>=1.3.3 in /usr/local/lib/python3.7/dist-packages (from plotly->catboost) (1.3.3)\n",
            "Installing collected packages: catboost\n",
            "Successfully installed catboost-0.26.1\n",
            "\n",
            " Model index: 0\n",
            "\n",
            "0:\tlearn: 10.0772485\ttest: 10.0762054\tbest: 10.0762054 (0)\ttotal: 2.39s\tremaining: 7m 56s\n",
            "100:\tlearn: 2.8933962\ttest: 2.8692723\tbest: 2.8692723 (100)\ttotal: 3m 22s\tremaining: 3m 18s\n",
            "199:\tlearn: 2.4636227\ttest: 2.4470545\tbest: 2.4470545 (199)\ttotal: 6m 21s\tremaining: 0us\n",
            "\n",
            "bestTest = 2.447054531\n",
            "bestIteration = 199\n",
            "\n",
            "\n",
            " Model index: 1\n",
            "\n",
            "0:\tlearn: 10.0797424\ttest: 10.0788222\tbest: 10.0788222 (0)\ttotal: 2.31s\tremaining: 7m 40s\n",
            "100:\tlearn: 2.8958509\ttest: 2.8717422\tbest: 2.8717422 (100)\ttotal: 3m 22s\tremaining: 3m 18s\n",
            "199:\tlearn: 2.4668849\ttest: 2.4504754\tbest: 2.4504754 (199)\ttotal: 6m 22s\tremaining: 0us\n",
            "\n",
            "bestTest = 2.450475398\n",
            "bestIteration = 199\n",
            "\n",
            "\n",
            " Model index: 2\n",
            "\n",
            "0:\tlearn: 10.0766372\ttest: 10.0755385\tbest: 10.0755385 (0)\ttotal: 2.33s\tremaining: 7m 43s\n",
            "100:\tlearn: 2.8947113\ttest: 2.8704513\tbest: 2.8704513 (100)\ttotal: 3m 22s\tremaining: 3m 18s\n",
            "199:\tlearn: 2.4646485\ttest: 2.4479654\tbest: 2.4479654 (199)\ttotal: 6m 19s\tremaining: 0us\n",
            "\n",
            "bestTest = 2.447965358\n",
            "bestIteration = 199\n",
            "\n"
          ]
        }
      ]
    },
    {
      "cell_type": "markdown",
      "metadata": {
        "id": "PiFcK54kjuU4"
      },
      "source": [
        "### Saving\n",
        "\n",
        "The trained models are saved below into the current directory. The directory path can be changed to save the models in any preferred location."
      ]
    },
    {
      "cell_type": "code",
      "metadata": {
        "id": "XxeD5rKFjuU6"
      },
      "source": [
        "dir_path = '.'\n",
        "for i, model in enumerate(trained_models):\n",
        "    model.save_model(f'{dir_path}/model{i+1}.cbm')"
      ],
      "execution_count": 16,
      "outputs": []
    },
    {
      "cell_type": "markdown",
      "metadata": {
        "id": "Fm3xoOuYjuU6"
      },
      "source": [
        "## 4. Model Loading\n",
        "\n",
        "### Loading Trained Models\n",
        "\n",
        "This section assumes that the trained models have been saved in the current directory. The directory path can be altered to point to any location with the trained models."
      ]
    },
    {
      "cell_type": "code",
      "metadata": {
        "id": "ZfP0wtWqjuU8"
      },
      "source": [
        "dir_path = '.'\n",
        "trained_models = []\n",
        "\n",
        "# 3 models trained above in this tutorial\n",
        "ensemble_size=3\n",
        "\n",
        "for ind in range(1, ensemble_size+1):\n",
        "    model = catboost.CatBoostRegressor()\n",
        "    model.load_model(f'{dir_path}/model{ind}.cbm')\n",
        "    trained_models.append(model)"
      ],
      "execution_count": 17,
      "outputs": []
    },
    {
      "cell_type": "markdown",
      "metadata": {
        "id": "8GJ2xxe3juU8"
      },
      "source": [
        "### Loading Baseline Models\n",
        "\n",
        "The trained baseline models are provided at: [baseline models](https://storage.yandexcloud.net/yandex-research/shifts/weather/baseline-models.tar)\n"
      ]
    },
    {
      "cell_type": "code",
      "metadata": {
        "id": "hB6xFlxM277a"
      },
      "source": [
        "!mkdir Baseline"
      ],
      "execution_count": 18,
      "outputs": []
    },
    {
      "cell_type": "code",
      "metadata": {
        "id": "SEf6HiGhjuU8",
        "colab": {
          "base_uri": "https://localhost:8080/"
        },
        "outputId": "41ad3584-5245-4f8f-f9d0-f5f6f4a9e171"
      },
      "source": [
        "# Download baselines\n",
        "! wget https://storage.yandexcloud.net/yandex-research/shifts/weather/baseline-models.tar"
      ],
      "execution_count": 19,
      "outputs": [
        {
          "output_type": "stream",
          "name": "stdout",
          "text": [
            "--2021-09-29 19:23:09--  https://storage.yandexcloud.net/yandex-research/shifts/weather/baseline-models.tar\n",
            "Resolving storage.yandexcloud.net (storage.yandexcloud.net)... 213.180.193.243, 2a02:6b8::1d9\n",
            "Connecting to storage.yandexcloud.net (storage.yandexcloud.net)|213.180.193.243|:443... connected.\n",
            "HTTP request sent, awaiting response... 200 OK\n",
            "Length: 1243392000 (1.2G) [application/x-tar]\n",
            "Saving to: ‘baseline-models.tar’\n",
            "\n",
            "baseline-models.tar 100%[===================>]   1.16G  45.3MB/s    in 23s     \n",
            "\n",
            "2021-09-29 19:23:32 (52.7 MB/s) - ‘baseline-models.tar’ saved [1243392000/1243392000]\n",
            "\n"
          ]
        }
      ]
    },
    {
      "cell_type": "code",
      "metadata": {
        "id": "I9KNHW1I2lff"
      },
      "source": [
        "shutil.unpack_archive(\"/content/baseline-models.tar\", \"/content/Baseline/\")"
      ],
      "execution_count": 20,
      "outputs": []
    },
    {
      "cell_type": "code",
      "metadata": {
        "id": "U7Xft5MqjuU9"
      },
      "source": [
        "# Loading Trained Baseline Models\n",
        "# Assume models saved as dir_path/seedi.cbm\n",
        "\n",
        "dir_path = '/content/Baseline/baseline-models'\n",
        "baseline_models = []\n",
        "\n",
        "# 10 models provided\n",
        "ensemble_size=10\n",
        "\n",
        "for ind in range(1, ensemble_size+1):\n",
        "    model = catboost.CatBoostRegressor()\n",
        "    model.load_model(f'{dir_path}/seed{ind}.cbm')\n",
        "    baseline_models.append(model)"
      ],
      "execution_count": 21,
      "outputs": []
    },
    {
      "cell_type": "markdown",
      "metadata": {
        "id": "A5-PxPJvjuU9"
      },
      "source": [
        "## 5. Evaluation and Inference\n",
        "\n",
        "Evaluation and Inference here is shown for the `baseline_models`, but it can be performed in exactly the same manner for the `trained_models`.\n",
        "\n",
        "All evaluation and inference in this section is carried out on a combined dataset of `dev_in` + `dev_out` = `dev`.\n",
        "The objective here is two fold:\n",
        "\n",
        "1. Evaluate the ensemble of trained models to get predictions for each data point\n",
        "2. Use the predictions to determine an uncertainty score for each data point using any chosen uncertainty measure\n",
        "\n",
        "It is hoped that the uncertainty measure chosen ensures that data points with greater errors yield greater uncertainties. The uncertainty scores are used to generate retention curves (lowest x% of uncertainties are kept). "
      ]
    },
    {
      "cell_type": "code",
      "metadata": {
        "id": "rfkwXdMAjuU-"
      },
      "source": [
        "# Create a combined evaluation dataset and keep only the features\n",
        "df_dev = pd.concat([df_dev_in, df_dev_out])\n",
        "X_dev = df_dev.iloc[:,6:]"
      ],
      "execution_count": 22,
      "outputs": []
    },
    {
      "cell_type": "code",
      "metadata": {
        "id": "MQyFi4chjuU-"
      },
      "source": [
        "# Get ensemble of predictions for each data point\n",
        "\n",
        "import numpy as np\n",
        "\n",
        "def get_predictions(features_df, model):\n",
        "    '''\n",
        "    Calculates predictions on df features for specified model\n",
        "    \n",
        "    Return: array [num_samples x 2],\n",
        "        where\n",
        "            num_samples = number of rows in features_df\n",
        "            2 = [mean, variance]\n",
        "    \n",
        "    '''\n",
        "    return model.predict(features_df)\n",
        "\n",
        "\n",
        "def get_all_predictions(features_df, models_list):\n",
        "    '''\n",
        "    Return: array [ensemble_size x num_samples x 2],\n",
        "        where\n",
        "            ensemble_size = number of models in models_list\n",
        "            num_samples = number of rows in features_df\n",
        "            2 = [mean, variance]\n",
        "    '''\n",
        "    all_preds = []\n",
        "    for model in models_list:\n",
        "        preds = np.asarray(get_predictions(features_df, model))\n",
        "        all_preds.append(preds)\n",
        "    return np.stack(all_preds, axis=0)\n",
        "\n",
        "\n",
        "all_preds = get_all_predictions(X_dev, baseline_models)"
      ],
      "execution_count": 23,
      "outputs": []
    },
    {
      "cell_type": "code",
      "metadata": {
        "id": "RbLsZAD4kl6_"
      },
      "source": [
        "def entropy_of_expected_class(probs, epsilon=1e-10):\n",
        "    \"\"\"\n",
        "    :param probs: array [num_models, num_examples, num_classes]\n",
        "    :return: array [num_examples}\n",
        "    \"\"\"\n",
        "    mean_probs = np.mean(probs, axis=0)\n",
        "    log_probs = -np.log(mean_probs + epsilon)\n",
        "    return np.sum(mean_probs * log_probs, axis=1)\n",
        "\n",
        "\n",
        "def expected_entropy_class(probs, epsilon=1e-10):\n",
        "    \"\"\"\n",
        "    :param probs: array [num_models, num_examples, num_classes]\n",
        "    :return: array [num_examples}\n",
        "    \"\"\"\n",
        "    log_probs = -np.log(probs + epsilon)\n",
        "\n",
        "    return np.mean(np.sum(probs * log_probs, axis=2), axis=0)\n",
        "\n",
        "\n",
        "def ensemble_uncertainties_classification(probs, epsilon=1e-10):\n",
        "    \"\"\"\n",
        "    :param probs: array [num_models, num_examples, num_classes]\n",
        "    :return: Dictionary of uncertaintties\n",
        "    \"\"\"\n",
        "    mean_probs = np.mean(probs, axis=0)\n",
        "    mean_lprobs = np.mean(np.log(probs + epsilon), axis=0)\n",
        "    conf = np.max(mean_probs, axis=1)\n",
        "\n",
        "    eoe = entropy_of_expected_class(probs, epsilon)\n",
        "    exe = expected_entropy_class(probs, epsilon)\n",
        "\n",
        "    mutual_info = eoe - exe\n",
        "\n",
        "    epkl = -np.sum(mean_probs * mean_lprobs, axis=1) - exe\n",
        "\n",
        "    uncertainty = {'confidence': conf,\n",
        "                   'entropy_of_expected': eoe,\n",
        "                   'expected_entropy': exe,\n",
        "                   'mutual_information': mutual_info,\n",
        "                   'epkl': epkl,\n",
        "                   'reverse_mutual_information': epkl - mutual_info\n",
        "                   }\n",
        "\n",
        "    return uncertainty\n",
        "\n",
        "\n",
        "def epkl_reg(preds, epsilon=1e-10):\n",
        "    \"\"\"\n",
        "    preds: array [n_models, n_samples, 2] - mean and var along last axis.\n",
        "    \"\"\"\n",
        "    means = preds[:, :, 0]\n",
        "    vars = preds[:, :, 1] + epsilon\n",
        "    logvars = np.log(vars)\n",
        "\n",
        "    avg_means = np.mean(means, axis=0)\n",
        "    avg_second_moments = np.mean(means * means + vars, axis=0)\n",
        "\n",
        "    inv_vars = 1.0 / vars\n",
        "    avg_inv_vars = np.mean(inv_vars, axis=0)\n",
        "    mean_inv_var = inv_vars * means\n",
        "    avg_mean_inv_var = np.mean(mean_inv_var, axis=0)\n",
        "    avg_mean2_inv_var = np.mean(means * mean_inv_var + logvars, axis=0) + np.log(2 * np.pi)\n",
        "\n",
        "    epkl = 0.5 * (avg_second_moments * avg_inv_vars - 2 * avg_means * avg_mean_inv_var + avg_mean2_inv_var)\n",
        "\n",
        "    return epkl\n",
        "\n",
        "\n",
        "def ensemble_uncertainties_regression(preds):\n",
        "    \"\"\"\n",
        "    preds: array [n_models, n_samples, 2] - last dim is mean, var\n",
        "    \"\"\"\n",
        "    epkl = epkl_reg(preds)\n",
        "\n",
        "    var_mean = np.var(preds[:, :, 0], axis=0)\n",
        "    mean_var = np.mean(preds[:, :, 1], axis=0)\n",
        "\n",
        "    uncertainty = {'tvar': var_mean + mean_var,\n",
        "                   'mvar': mean_var,\n",
        "                   'varm': var_mean,\n",
        "                   'epkl': epkl}\n",
        "\n",
        "    return uncertainty"
      ],
      "execution_count": 24,
      "outputs": []
    },
    {
      "cell_type": "code",
      "metadata": {
        "id": "Oqe8HdTyjuU_"
      },
      "source": [
        "# Choose any uncertainty measure to calculate uncertainty scores\n",
        "# This tutorial uses total variance as the uncertainty measure\n",
        "all_uncertainty = ensemble_uncertainties_regression(all_preds)\n",
        "uncertainties = all_uncertainty['tvar']"
      ],
      "execution_count": 25,
      "outputs": []
    },
    {
      "cell_type": "markdown",
      "metadata": {
        "id": "_6zJsF9ZjuU_"
      },
      "source": [
        "### Retention Curves\n",
        "\n",
        "We plot the retention curves for two different metrics:\n",
        "1. Mean Squared Error (MSE)\n",
        "2. F1-score\n",
        "\n",
        "In each case, the x-axis represents the fraction of data points retained, where the data points are ordered by the chosen uncertainty measure."
      ]
    },
    {
      "cell_type": "code",
      "metadata": {
        "id": "6OeM_j3VjuVA"
      },
      "source": [
        "# Get ensemble predictions\n",
        "all_preds_mean = all_preds[:,:,0]\n",
        "avg_preds = np.squeeze(np.mean(all_preds_mean, axis=0))\n",
        "\n",
        "# Get target values\n",
        "targets = np.asarray(df_dev['fact_temperature'])\n",
        "\n",
        "# squared error\n",
        "errors = (avg_preds - targets) ** 2"
      ],
      "execution_count": 26,
      "outputs": []
    },
    {
      "cell_type": "code",
      "metadata": {
        "id": "7SK6lfEXkt0-"
      },
      "source": [
        "from sklearn.metrics import *\n",
        "from sklearn.utils.multiclass import type_of_target\n",
        "from sklearn.utils import check_consistent_length, column_or_1d, assert_all_finite\n",
        "from sklearn.utils.extmath import stable_cumsum\n",
        "\n",
        "\n",
        "def calc_uncertainty_regection_curve(errors, uncertainty, group_by_uncertainty=True):\n",
        "    n_objects = errors.shape[0]\n",
        "    if group_by_uncertainty:\n",
        "        data = pd.DataFrame(dict(\n",
        "            errors=errors,\n",
        "            uncertainty=uncertainty\n",
        "        ))\n",
        "        mean_errors = data.groupby(\"uncertainty\").mean()\n",
        "        mean_errors.rename(columns={\"errors\": \"mean_errors\"}, inplace=True)\n",
        "        data = data.join(mean_errors, \"uncertainty\")\n",
        "        data.drop(\"errors\", axis=1, inplace=True)\n",
        "\n",
        "        uncertainty_order = data[\"uncertainty\"].argsort()\n",
        "        errors = data[\"mean_errors\"][uncertainty_order]\n",
        "    else:\n",
        "        uncertainty_order = uncertainty.argsort()\n",
        "        errors = errors[uncertainty_order]\n",
        "\n",
        "    error_rates = np.zeros(n_objects + 1)\n",
        "    error_rates[:-1] = np.cumsum(errors)[::-1] / n_objects\n",
        "    return error_rates\n",
        "\n",
        "\n",
        "assert np.allclose(\n",
        "    calc_uncertainty_regection_curve(np.array([2, 1]), np.array([1, 0])).mean(),\n",
        "    2 / 3\n",
        ")\n",
        "assert np.allclose(\n",
        "    calc_uncertainty_regection_curve(np.arange(5), np.array([0, 0, 2, 1, 1])).mean(),\n",
        "    0.8\n",
        ")\n",
        "debug_errors = np.random.rand(10)\n",
        "assert np.allclose(\n",
        "    calc_uncertainty_regection_curve(debug_errors, np.zeros_like(debug_errors)).mean(),\n",
        "    debug_errors.mean() / 2\n",
        ")\n",
        "\n",
        "\n",
        "def calc_aucs(errors, uncertainty):\n",
        "    uncertainty_rejection_curve = calc_uncertainty_regection_curve(errors, uncertainty)\n",
        "    uncertainty_rejection_auc = uncertainty_rejection_curve.mean()\n",
        "    random_rejection_auc = uncertainty_rejection_curve[0] / 2\n",
        "    ideal_rejection_auc = calc_uncertainty_regection_curve(errors, errors).mean()\n",
        "\n",
        "    rejection_ratio = (uncertainty_rejection_auc - random_rejection_auc) / (\n",
        "            ideal_rejection_auc - random_rejection_auc) * 100.0\n",
        "    return rejection_ratio, uncertainty_rejection_auc\n",
        "\n",
        "\n",
        "def prr_classification(labels, probs, measure, rev: bool):\n",
        "    if rev:\n",
        "        measure = -measure\n",
        "    preds = np.argmax(probs, axis=1)\n",
        "    errors = (labels != preds).astype(\"float32\")\n",
        "    return calc_aucs(errors, measure)\n",
        "\n",
        "\n",
        "def prr_regression(targets, preds, measure):\n",
        "    preds = np.squeeze(preds)\n",
        "    # Compute MSE errors\n",
        "    errors = (preds - targets) ** 2\n",
        "    return calc_aucs(errors, measure)\n",
        "\n",
        "\n",
        "def ood_detect(domain_labels, in_measure, out_measure, mode='ROC', pos_label=1):\n",
        "    scores = np.concatenate((in_measure, out_measure), axis=0)\n",
        "    scores = np.asarray(scores)\n",
        "    if pos_label != 1:\n",
        "        scores *= -1.0\n",
        "\n",
        "    if mode == 'PR':\n",
        "        precision, recall, thresholds = precision_recall_curve(domain_labels, scores)\n",
        "        aupr = auc(recall, precision)\n",
        "        return aupr\n",
        "\n",
        "    elif mode == 'ROC':\n",
        "        roc_auc = roc_auc_score(domain_labels, scores)\n",
        "        return roc_auc\n",
        "\n",
        "\n",
        "def nll_regression(target, mu, var, epsilon=1e-8, raw=False):\n",
        "    nll = (target - mu) ** 2 / (2.0 * var + epsilon) + np.log(var + epsilon) / 2.0 + np.log(2 * np.pi) / 2.0\n",
        "    if raw:\n",
        "        return nll\n",
        "    return np.mean(nll)\n",
        "\n",
        "\n",
        "def nll_class(target, probs, epsilon=1e-10):\n",
        "    log_p = -np.log(probs + epsilon)\n",
        "    return target * log_p[:, 1] + (1 - target) * log_p[:, 0]\n",
        "\n",
        "\n",
        "def ens_nll_regression(target, preds, epsilon=1e-8, raw=False):\n",
        "    mu = preds[:, :, 0]\n",
        "    var = preds[:, :, 1]\n",
        "    nll = (target - mu) ** 2 / (2.0 * var + epsilon) + np.log(var + epsilon) / 2.0 + np.log(2 * np.pi) / 2.0\n",
        "    proba = np.exp(-1 * nll)\n",
        "    if raw:\n",
        "        return -1 * np.log(np.mean(proba, axis=0))\n",
        "    return np.mean(-1 * np.log(np.mean(proba, axis=0)))\n",
        "\n",
        "\n",
        "def calc_rmse(preds, target, raw=False):\n",
        "    if raw:\n",
        "        return (preds - target) ** 2\n",
        "    return np.sqrt(np.mean((preds - target) ** 2))\n",
        "\n",
        "\n",
        "def ens_rmse(target, preds, epsilon=1e-8, raw=False):\n",
        "    means = preds[:, :, 0]  # mean values predicted by all models\n",
        "    avg_mean = np.mean(means, axis=0)  # average predicted mean value\n",
        "    if raw:\n",
        "        return calc_rmse(avg_mean, target, raw=True)\n",
        "    return calc_rmse(avg_mean, target)\n",
        "\n",
        "\n",
        "def _check_pos_label_consistency(pos_label, y_true):\n",
        "    # ensure binary classification if pos_label is not specified\n",
        "    # classes.dtype.kind in ('O', 'U', 'S') is required to avoid\n",
        "    # triggering a FutureWarning by calling np.array_equal(a, b)\n",
        "    # when elements in the two arrays are not comparable.\n",
        "    classes = np.unique(y_true)\n",
        "    if (pos_label is None and (\n",
        "            classes.dtype.kind in 'OUS' or\n",
        "            not (np.array_equal(classes, [0, 1]) or\n",
        "                 np.array_equal(classes, [-1, 1]) or\n",
        "                 np.array_equal(classes, [0]) or\n",
        "                 np.array_equal(classes, [-1]) or\n",
        "                 np.array_equal(classes, [1])))):\n",
        "        classes_repr = \", \".join(repr(c) for c in classes)\n",
        "        raise ValueError(\n",
        "            f\"y_true takes value in {{{classes_repr}}} and pos_label is not \"\n",
        "            f\"specified: either make y_true take value in {{0, 1}} or \"\n",
        "            f\"{{-1, 1}} or pass pos_label explicitly.\"\n",
        "        )\n",
        "    elif pos_label is None:\n",
        "        pos_label = 1.0\n",
        "\n",
        "    return pos_label\n",
        "\n",
        "\n",
        "def _binary_clf_curve_ret(y_true, y_score, pos_label=None, sample_weight=None):\n",
        "    # Check to make sure y_true is valid\n",
        "    y_type = type_of_target(y_true)\n",
        "    if not (y_type == \"binary\" or\n",
        "            (y_type == \"multiclass\" and pos_label is not None)):\n",
        "        raise ValueError(\"{0} format is not supported\".format(y_type))\n",
        "\n",
        "    check_consistent_length(y_true, y_score, sample_weight)\n",
        "    y_true = column_or_1d(y_true)\n",
        "    y_score = column_or_1d(y_score)\n",
        "    assert_all_finite(y_true)\n",
        "    assert_all_finite(y_score)\n",
        "\n",
        "    if sample_weight is not None:\n",
        "        sample_weight = column_or_1d(sample_weight)\n",
        "\n",
        "    pos_label = _check_pos_label_consistency(pos_label, y_true)\n",
        "\n",
        "    # make y_true a boolean vector\n",
        "    y_true = (y_true == pos_label)\n",
        "\n",
        "    # sort scores and corresponding truth values\n",
        "    desc_score_indices = np.argsort(y_score, kind=\"mergesort\")[::-1]\n",
        "    y_score = y_score[desc_score_indices]\n",
        "    y_true = y_true[desc_score_indices]\n",
        "    if sample_weight is not None:\n",
        "        weight = sample_weight[desc_score_indices]\n",
        "    else:\n",
        "        weight = 1.\n",
        "\n",
        "    # y_score typically has many tied values. Here we extract\n",
        "    # the indices associated with the distinct values. We also\n",
        "    # concatenate a value for the end of the curve.\n",
        "    # distinct_value_indices = np.where(np.diff(y_score))[0]\n",
        "    # threshold_idxs = np.r_[distinct_value_indices, y_true.size - 1]\n",
        "\n",
        "    # accumulate the true positives with decreasing threshold\n",
        "    tps = stable_cumsum(y_true * weight)  # [threshold_idxs]\n",
        "    if sample_weight is not None:\n",
        "        # express fps as a cumsum to ensure fps is increasing even in\n",
        "        # the presence of floating point errors\n",
        "        fps = stable_cumsum((1 - y_true) * weight)  # [threshold_idxs]\n",
        "    else:\n",
        "        fps = stable_cumsum((1 - y_true))  # [threshold_idxs]\n",
        "    return fps, tps, y_score  # [threshold_idxs]\n",
        "\n",
        "\n",
        "def _precision_recall_curve_retention(y_true, probas_pred, *, pos_label=None,\n",
        "                                      sample_weight=None):\n",
        "    fps, tps, thresholds = _binary_clf_curve_ret(y_true, probas_pred,\n",
        "                                                 pos_label=pos_label,\n",
        "                                                 sample_weight=sample_weight)\n",
        "\n",
        "    precision = tps / (tps + fps)\n",
        "    precision[np.isnan(precision)] = 0\n",
        "    recall = tps / tps[-1]\n",
        "\n",
        "    # stop when full recall attained\n",
        "    # and reverse the outputs so recall is decreasing\n",
        "    last_ind = tps.searchsorted(tps[-1])\n",
        "    sl = slice(-1, None, -1)\n",
        "    return np.r_[precision[sl], 1], np.r_[recall[sl], 0], thresholds[sl]\n",
        "\n",
        "\n",
        "def _acceptable_error(errors, threshold):\n",
        "    return np.asarray(errors <= threshold, dtype=np.float32)\n",
        "\n",
        "\n",
        "def _calc_fbeta_regection_curve(errors, uncertainty, threshold, beta=1.0, group_by_uncertainty=True, eps=1e-10):\n",
        "    ae = _acceptable_error(errors, threshold)\n",
        "    pr, rec, _ = _precision_recall_curve_retention(ae, -uncertainty)\n",
        "    pr = np.asarray(pr)\n",
        "    rec = np.asarray(rec)\n",
        "    f_scores = (1 + beta ** 2) * pr * rec / (pr * beta ** 2 + rec + eps)\n",
        "\n",
        "    return f_scores, pr, rec\n",
        "\n",
        "\n",
        "def f_beta_metrics(errors, uncertainty, threshold, beta=1.0):\n",
        "    \"\"\"\n",
        "\n",
        "    :param errors: Per sample errors - array [n_samples]\n",
        "    :param uncertainty: Uncertainties associated with each prediction. rray [n_samples]\n",
        "    :param threshold: The error threshold below which we consider the prediction acceptable\n",
        "    :param beta: The beta value for the F_beta metric. Defaults to 1\n",
        "    :return: fbeta_auc, fbeta_95, retention\n",
        "    \"\"\"\n",
        "    f_scores, pr, rec = _calc_fbeta_regection_curve(errors, uncertainty, threshold, beta)\n",
        "    ret = np.arange(pr.shape[0]) / pr.shape[0]\n",
        "\n",
        "    f_auc = auc(ret[::-1], f_scores)\n",
        "    f95 = f_scores[::-1][np.int(0.95 * pr.shape[0])]\n",
        "\n",
        "    return f_auc, f95, f_scores[::-1]"
      ],
      "execution_count": 27,
      "outputs": []
    },
    {
      "cell_type": "code",
      "metadata": {
        "id": "V6MF7Y5ljuVA",
        "colab": {
          "base_uri": "https://localhost:8080/",
          "height": 297
        },
        "outputId": "e1a5490b-6cb6-4ce7-9e75-665769c40680"
      },
      "source": [
        "# MSE retention curve\n",
        "import matplotlib.pyplot as plt\n",
        "\n",
        "# MSE retention values\n",
        "rejection_mse = calc_uncertainty_regection_curve(errors, uncertainties)\n",
        "retention_mse = rejection_mse[::-1]\n",
        "\n",
        "retention_fractions = np.linspace(0,1,len(retention_mse))\n",
        "\n",
        "# plot\n",
        "plt.plot(retention_fractions, retention_mse)\n",
        "plt.ylabel('MSE')\n",
        "plt.xlabel(\"Retention Fraction\")\n",
        "plt.show()\n",
        "plt.clf()"
      ],
      "execution_count": 28,
      "outputs": [
        {
          "output_type": "display_data",
          "data": {
            "image/png": "[encoded data removed]",
            "text/plain": [
              "<Figure size 432x288 with 1 Axes>"
            ]
          },
          "metadata": {
            "needs_background": "light"
          }
        },
        {
          "output_type": "display_data",
          "data": {
            "text/plain": [
              "<Figure size 432x288 with 0 Axes>"
            ]
          },
          "metadata": {}
        }
      ]
    },
    {
      "cell_type": "code",
      "metadata": {
        "id": "f5KBLPrljuVB",
        "colab": {
          "base_uri": "https://localhost:8080/",
          "height": 314
        },
        "outputId": "e4039506-589e-451d-9065-758a34dee323"
      },
      "source": [
        "# F1-score retention curve\n",
        "\n",
        "# Use an acceptable error threshold of 1 degree\n",
        "thresh = 1.0\n",
        "\n",
        "# Get all metrics\n",
        "f_auc, f95, retention_f1 = f_beta_metrics(errors, uncertainties, thresh, beta=1.0)\n",
        "print(\"F1 score at 95% retention: \", f95)\n",
        "\n",
        "retention_fractions = np.linspace(0,1,len(retention_f1))\n",
        "\n",
        "# plot\n",
        "plt.plot(retention_fractions, retention_f1)\n",
        "plt.ylabel('F1')\n",
        "plt.xlabel(\"Retention Fraction\")\n",
        "plt.show()\n",
        "plt.clf()"
      ],
      "execution_count": 29,
      "outputs": [
        {
          "output_type": "stream",
          "name": "stdout",
          "text": [
            "F1 score at 95% retention:  0.6583114832320486\n"
          ]
        },
        {
          "output_type": "display_data",
          "data": {
            "image/png": "[encoded data removed]",
            "text/plain": [
              "<Figure size 432x288 with 1 Axes>"
            ]
          },
          "metadata": {
            "needs_background": "light"
          }
        },
        {
          "output_type": "display_data",
          "data": {
            "text/plain": [
              "<Figure size 432x288 with 0 Axes>"
            ]
          },
          "metadata": {}
        }
      ]
    },
    {
      "cell_type": "markdown",
      "metadata": {
        "id": "V9p_NfA--48w"
      },
      "source": [
        "## 6. New Proposed Evaluation Metrics"
      ]
    },
    {
      "cell_type": "markdown",
      "metadata": {
        "id": "-mQmPucZ_6DT"
      },
      "source": [
        "### Log-Loss Fisher Uncertainity\n"
      ]
    },
    {
      "cell_type": "markdown",
      "metadata": {
        "id": "3AAeXKCrAOnC"
      },
      "source": [
        "####Calculating LL-FU for ensmble model\n"
      ]
    },
    {
      "cell_type": "code",
      "metadata": {
        "id": "hb-ESAgYlBW2"
      },
      "source": [
        "def LL_FU_Ensmble(preds, errors):\n",
        "  means = np.mean(preds[:,:,0],axis=0)\n",
        "  vars  = np.mean(preds[:,:,1],axis=0)\n",
        "  print(vars.shape)\n",
        "  fi = 0\n",
        "  fi_list = []\n",
        "  for i in range(vars.shape[0]):\n",
        "    fi = max((0.5*np.log10(2*np.pi*vars[i])),0.0) + (errors[i]/(2*vars[i]))\n",
        "    fi_list.append(fi)\n",
        "  #fisher_info = -0.5*np.log(2*np.pi*vars) - ((errors)/2*vars)\n",
        "  return fi_list"
      ],
      "execution_count": 30,
      "outputs": []
    },
    {
      "cell_type": "code",
      "metadata": {
        "id": "jQkdEBO4lOWN",
        "colab": {
          "base_uri": "https://localhost:8080/"
        },
        "outputId": "a3338c78-7332-4aec-a0fb-13fecca7851a"
      },
      "source": [
        "uncertainties_ens = np.array(LL_FU_Ensmble(all_preds, errors))"
      ],
      "execution_count": 31,
      "outputs": [
        {
          "output_type": "stream",
          "name": "stdout",
          "text": [
            "(100000,)\n"
          ]
        }
      ]
    },
    {
      "cell_type": "code",
      "metadata": {
        "id": "-iv6OblFlZNs"
      },
      "source": [
        "errors_sin = (all_preds[0,:,0] - targets) ** 2"
      ],
      "execution_count": 32,
      "outputs": []
    },
    {
      "cell_type": "markdown",
      "metadata": {
        "id": "-633IF9TApRi"
      },
      "source": [
        "####Calculating LL-FU for single model\n"
      ]
    },
    {
      "cell_type": "code",
      "metadata": {
        "id": "Q_bsTojWlfpf"
      },
      "source": [
        "def LL_FU_Single(preds, errors):\n",
        "  means = preds[0,:,0]\n",
        "  vars  = preds[0,:,1]\n",
        "  fi = 0\n",
        "  fi_list = []\n",
        "  for i in range(vars.shape[0]):\n",
        "    fi = max((0.5*np.log10(2*np.pi*vars[i])),0.0) + (errors[i]/(2*vars[i]))\n",
        "    fi_list.append(fi)\n",
        "  #fisher_info = -0.5*np.log(2*np.pi*vars) - ((errors)/2*vars)\n",
        "  return fi_list"
      ],
      "execution_count": 33,
      "outputs": []
    },
    {
      "cell_type": "code",
      "metadata": {
        "id": "N8T-XmYYll8T"
      },
      "source": [
        "uncertainties_sin = np.array(LL_FU_Single(all_preds, errors_sin))\n"
      ],
      "execution_count": 34,
      "outputs": []
    },
    {
      "cell_type": "markdown",
      "metadata": {
        "id": "5Cn8b_TZAtyz"
      },
      "source": [
        "####Plotting F1-retention curve for ensmble and single models for an acceptable prediction"
      ]
    },
    {
      "cell_type": "code",
      "metadata": {
        "id": "dyqinVva40oS",
        "colab": {
          "base_uri": "https://localhost:8080/",
          "height": 279
        },
        "outputId": "6e83cbae-bbab-47bc-9b6a-fbb189521afc"
      },
      "source": [
        "# F1-score retention curve\n",
        "\n",
        "# Use an acceptable error threshold of 1 degree\n",
        "thresh = 1.0\n",
        "\n",
        "# Get all metrics\n",
        "f_auce, f95, retention_f1_ens = f_beta_metrics(errors, uncertainties_ens, thresh, beta=1.0)\n",
        "retention_fractions = np.linspace(0,1,len(retention_f1_ens))\n",
        "f_aucs, f95, retention_f1_single = f_beta_metrics(errors_sin, uncertainties_sin, thresh, beta=1.0)\n",
        "plt.plot(retention_fractions, retention_f1_single)\n",
        "plt.plot(retention_fractions, retention_f1_ens)\n",
        "plt.ylabel('F1 Score')\n",
        "plt.xlabel(\"Retention fraction\")\n",
        "s='Single'\n",
        "e='Ensemble'\n",
        "plt.legend([s,e])\n",
        "plt.savefig(\"ll-fu\", dpi=80)"
      ],
      "execution_count": 35,
      "outputs": [
        {
          "output_type": "display_data",
          "data": {
            "image/png": "[encoded data removed]",
            "text/plain": [
              "<Figure size 432x288 with 1 Axes>"
            ]
          },
          "metadata": {
            "needs_background": "light"
          }
        }
      ]
    },
    {
      "cell_type": "code",
      "metadata": {
        "id": "NwkhfJLU5RqO"
      },
      "source": [
        "uncertaintiesmv = all_uncertainty['mvar']\n",
        "# Predictions are the mean predictions across the ensemble of models\n",
        "preds = np.mean(all_preds[:,:,0], axis=0)\n",
        "df_submission = pd.DataFrame(data={\n",
        "        'PRED' : preds,\n",
        "        'UNCERTAINTY' : uncertainties,\n",
        "        'Errors' : errors,\n",
        "        'Errors_S' : errors_sin,\n",
        "        'LLFU_ENS' : uncertainties_ens,\n",
        "        'LLFU_S' : uncertainties_sin,\n",
        "        'target' : targets,\n",
        "        'mvar' : uncertaintiesmv,\n",
        "        })"
      ],
      "execution_count": 36,
      "outputs": []
    },
    {
      "cell_type": "markdown",
      "metadata": {
        "id": "e8fXxd9ABCt5"
      },
      "source": [
        "####Plotting LLFU-error scatter plot"
      ]
    },
    {
      "cell_type": "code",
      "metadata": {
        "id": "TeobFwwS7tXU",
        "colab": {
          "base_uri": "https://localhost:8080/",
          "height": 279
        },
        "outputId": "56be2690-bc23-438c-dd26-f358d2a7744a"
      },
      "source": [
        "df2 = df_submission[df_submission['Errors']<=1.0]\n",
        "df20 = df2[df2['LLFU_ENS']<5]\n",
        "plt.scatter(df20['Errors'],df20['LLFU_ENS'],alpha=0.5)\n",
        "plt.ylabel('LL-FU')\n",
        "plt.xlabel('Error')\n",
        "plt.show()"
      ],
      "execution_count": 37,
      "outputs": [
        {
          "output_type": "display_data",
          "data": {
            "image/png": "[encoded data removed]",
            "text/plain": [
              "<Figure size 432x288 with 1 Axes>"
            ]
          },
          "metadata": {
            "needs_background": "light"
          }
        }
      ]
    },
    {
      "cell_type": "markdown",
      "metadata": {
        "id": "fo5z_9FgBNC0"
      },
      "source": [
        "####Plotting Uncertainty-error scatter plot for LL-FU and mvar uncertainity metrics"
      ]
    },
    {
      "cell_type": "code",
      "metadata": {
        "id": "YuHqjq9m5ABB",
        "colab": {
          "base_uri": "https://localhost:8080/",
          "height": 279
        },
        "outputId": "539d485d-0b22-4381-e039-ee577f75d77b"
      },
      "source": [
        "df2 = df_submission[df_submission['Errors']<=1.0]\n",
        "df21 = df2[df2['mvar']<5]\n",
        "df20 = df2[df2['LLFU_ENS']<5]\n",
        "plt.scatter(df21['Errors'],df21['mvar'],alpha=0.8)\n",
        "plt.scatter(df20['Errors'],df20['LLFU_ENS'],alpha=0.5)\n",
        "plt.ylabel('Uncertainty Metric')\n",
        "plt.xlabel('Errors')\n",
        "s='mvar'\n",
        "e='LL-FU'\n",
        "plt.legend([s,e], loc='upper left',framealpha=0.95)\n",
        "plt.show()"
      ],
      "execution_count": 38,
      "outputs": [
        {
          "output_type": "display_data",
          "data": {
            "image/png": "[encoded data removed]",
            "text/plain": [
              "<Figure size 432x288 with 1 Axes>"
            ]
          },
          "metadata": {
            "needs_background": "light"
          }
        }
      ]
    },
    {
      "cell_type": "code",
      "metadata": {
        "id": "tSZrST-aHIO2"
      },
      "source": [
        ""
      ],
      "execution_count": 38,
      "outputs": []
    }
  ]
}