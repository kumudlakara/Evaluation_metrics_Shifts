{
  "nbformat": 4,
  "nbformat_minor": 0,
  "metadata": {
    "colab": {
      "name": "LENCE and R3 Curve.ipynb",
      "provenance": [],
      "collapsed_sections": [],
      "include_colab_link": true
    },
    "kernelspec": {
      "name": "python3",
      "display_name": "Python 3"
    },
    "language_info": {
      "name": "python"
    }
  },
  "cells": [
    {
      "cell_type": "markdown",
      "metadata": {
        "id": "view-in-github",
        "colab_type": "text"
      },
      "source": [
        "<a href=\"https://colab.research.google.com/github/kumudlakara/Shifts_evaluation_metrics_regression/blob/main/LENCE_and_R3_Curve.ipynb\" target=\"_parent\"><img src=\"https://colab.research.google.com/assets/colab-badge.svg\" alt=\"Open In Colab\"/></a>"
      ]
    },
    {
      "cell_type": "markdown",
      "metadata": {
        "id": "c4dq6YsttUy2"
      },
      "source": [
        "```\n",
        "Credit: Initial part of the code including data preprocessing and basic uncertainty calculation is based on:\n",
        "```\n",
        "https://github.com/yandex-research/shifts/tree/main/weather\n",
        "\n",
        "\n",
        "\n",
        "\n",
        "\n"
      ]
    },
    {
      "cell_type": "code",
      "metadata": {
        "id": "Q5UyHGPWwTKH"
      },
      "source": [
        "import pandas as pd\n",
        "import seaborn as sns\n",
        "import numpy as np\n",
        "import matplotlib.pyplot as plt\n",
        "import sys"
      ],
      "execution_count": 1,
      "outputs": []
    },
    {
      "cell_type": "code",
      "metadata": {
        "id": "DBJDp_P9wOsL",
        "colab": {
          "base_uri": "https://localhost:8080/"
        },
        "outputId": "0f0a0073-f762-420d-8272-2480f2b97bc8"
      },
      "source": [
        "from google.colab import drive\n",
        "drive.mount('/content/drive')"
      ],
      "execution_count": 2,
      "outputs": [
        {
          "output_type": "stream",
          "name": "stdout",
          "text": [
            "Mounted at /content/drive\n"
          ]
        }
      ]
    },
    {
      "cell_type": "markdown",
      "metadata": {
        "id": "ojKOkLGtweTS"
      },
      "source": [
        "# **Clone repository for base code**"
      ]
    },
    {
      "cell_type": "code",
      "metadata": {
        "colab": {
          "base_uri": "https://localhost:8080/"
        },
        "id": "zYv7HrOZe6YZ",
        "outputId": "07f322fd-02b8-4fb4-e527-e11ab850de0c"
      },
      "source": [
        "! git clone https://github.com/yandex-research/shifts"
      ],
      "execution_count": 3,
      "outputs": [
        {
          "output_type": "stream",
          "name": "stdout",
          "text": [
            "Cloning into 'shifts'...\n",
            "remote: Enumerating objects: 2401, done.\u001b[K\n",
            "remote: Counting objects: 100% (649/649), done.\u001b[K\n",
            "remote: Compressing objects: 100% (224/224), done.\u001b[K\n",
            "remote: Total 2401 (delta 435), reused 628 (delta 425), pack-reused 1752\u001b[K\n",
            "Receiving objects: 100% (2401/2401), 10.52 MiB | 29.36 MiB/s, done.\n",
            "Resolving deltas: 100% (1211/1211), done.\n"
          ]
        }
      ]
    },
    {
      "cell_type": "code",
      "metadata": {
        "id": "6dPoV9RSfVf5"
      },
      "source": [
        "import sys\n",
        "sys.path.append('/content/drive/MyDrive/shifts-main/weather/')"
      ],
      "execution_count": 4,
      "outputs": []
    },
    {
      "cell_type": "code",
      "metadata": {
        "id": "pa0b5hPtgo7U",
        "colab": {
          "base_uri": "https://localhost:8080/",
          "height": 308
        },
        "outputId": "d37fe505-7ff2-4fde-a919-428b4fe83de4"
      },
      "source": [
        "import pandas as pd\n",
        "\n",
        "# Load each data file as a pandas data frame\n",
        "df_train = pd.read_csv('/content/drive/MyDrive/dataset/data/train.csv')\n",
        "df_train.head()"
      ],
      "execution_count": 5,
      "outputs": [
        {
          "output_type": "execute_result",
          "data": {
            "text/html": [
              "<div>\n",
              "<style scoped>\n",
              "    .dataframe tbody tr th:only-of-type {\n",
              "        vertical-align: middle;\n",
              "    }\n",
              "\n",
              "    .dataframe tbody tr th {\n",
              "        vertical-align: top;\n",
              "    }\n",
              "\n",
              "    .dataframe thead th {\n",
              "        text-align: right;\n",
              "    }\n",
              "</style>\n",
              "<table border=\"1\" class=\"dataframe\">\n",
              "  <thead>\n",
              "    <tr style=\"text-align: right;\">\n",
              "      <th></th>\n",
              "      <th>fact_time</th>\n",
              "      <th>fact_latitude</th>\n",
              "      <th>fact_longitude</th>\n",
              "      <th>fact_temperature</th>\n",
              "      <th>fact_cwsm_class</th>\n",
              "      <th>climate</th>\n",
              "      <th>topography_bathymetry</th>\n",
              "      <th>sun_elevation</th>\n",
              "      <th>climate_temperature</th>\n",
              "      <th>climate_pressure</th>\n",
              "      <th>cmc_0_0_0_1000</th>\n",
              "      <th>cmc_0_0_0_2_grad</th>\n",
              "      <th>cmc_0_0_0_2_interpolated</th>\n",
              "      <th>cmc_0_0_0_2_next</th>\n",
              "      <th>cmc_0_0_0_2</th>\n",
              "      <th>cmc_0_0_0_500</th>\n",
              "      <th>cmc_0_0_0_700</th>\n",
              "      <th>cmc_0_0_0_850</th>\n",
              "      <th>cmc_0_0_0_925</th>\n",
              "      <th>cmc_0_0_6_2</th>\n",
              "      <th>cmc_0_0_7_1000</th>\n",
              "      <th>cmc_0_0_7_2</th>\n",
              "      <th>cmc_0_0_7_500</th>\n",
              "      <th>cmc_0_0_7_700</th>\n",
              "      <th>cmc_0_0_7_850</th>\n",
              "      <th>cmc_0_0_7_925</th>\n",
              "      <th>cmc_0_1_0_0</th>\n",
              "      <th>cmc_0_1_11_0</th>\n",
              "      <th>cmc_0_1_65_0</th>\n",
              "      <th>cmc_0_1_66_0</th>\n",
              "      <th>cmc_0_1_67_0</th>\n",
              "      <th>cmc_0_1_68_0</th>\n",
              "      <th>cmc_0_1_7_0</th>\n",
              "      <th>cmc_0_2_2_10</th>\n",
              "      <th>cmc_0_2_2_1000</th>\n",
              "      <th>cmc_0_2_2_500</th>\n",
              "      <th>cmc_0_2_2_700</th>\n",
              "      <th>cmc_0_2_2_850</th>\n",
              "      <th>cmc_0_2_2_925</th>\n",
              "      <th>cmc_0_2_3_10</th>\n",
              "      <th>...</th>\n",
              "      <th>gfs_temperature_90000</th>\n",
              "      <th>gfs_temperature_92500</th>\n",
              "      <th>gfs_temperature_95000</th>\n",
              "      <th>gfs_temperature_97500</th>\n",
              "      <th>gfs_temperature_sea</th>\n",
              "      <th>gfs_temperature_sea_grad</th>\n",
              "      <th>gfs_temperature_sea_interpolated</th>\n",
              "      <th>gfs_temperature_sea_next</th>\n",
              "      <th>gfs_timedelta_s</th>\n",
              "      <th>gfs_total_clouds_cover_high</th>\n",
              "      <th>gfs_total_clouds_cover_low</th>\n",
              "      <th>gfs_total_clouds_cover_middle</th>\n",
              "      <th>gfs_u_wind</th>\n",
              "      <th>gfs_v_wind</th>\n",
              "      <th>gfs_wind_speed</th>\n",
              "      <th>wrf_available</th>\n",
              "      <th>wrf_t2</th>\n",
              "      <th>wrf_t2_next</th>\n",
              "      <th>wrf_psfc</th>\n",
              "      <th>wrf_rh2</th>\n",
              "      <th>wrf_wind_u</th>\n",
              "      <th>wrf_wind_v</th>\n",
              "      <th>wrf_rain</th>\n",
              "      <th>wrf_snow</th>\n",
              "      <th>wrf_graupel</th>\n",
              "      <th>wrf_hail</th>\n",
              "      <th>wrf_t2_interpolated</th>\n",
              "      <th>wrf_t2_grad</th>\n",
              "      <th>cmc_0_1_65_0_grad</th>\n",
              "      <th>cmc_0_1_65_0_next</th>\n",
              "      <th>cmc_0_1_66_0_grad</th>\n",
              "      <th>cmc_0_1_66_0_next</th>\n",
              "      <th>cmc_0_1_67_0_grad</th>\n",
              "      <th>cmc_0_1_67_0_next</th>\n",
              "      <th>cmc_0_1_68_0_grad</th>\n",
              "      <th>cmc_0_1_68_0_next</th>\n",
              "      <th>gfs_2m_dewpoint_grad</th>\n",
              "      <th>gfs_2m_dewpoint_next</th>\n",
              "      <th>gfs_total_clouds_cover_low_grad</th>\n",
              "      <th>gfs_total_clouds_cover_low_next</th>\n",
              "    </tr>\n",
              "  </thead>\n",
              "  <tbody>\n",
              "    <tr>\n",
              "      <th>0</th>\n",
              "      <td>1.543321e+09</td>\n",
              "      <td>26.968800</td>\n",
              "      <td>-99.248901</td>\n",
              "      <td>2.0</td>\n",
              "      <td>0.0</td>\n",
              "      <td>dry</td>\n",
              "      <td>127.0</td>\n",
              "      <td>-17.526443</td>\n",
              "      <td>14.613571</td>\n",
              "      <td>754.263405</td>\n",
              "      <td>282.702881</td>\n",
              "      <td>6.684790</td>\n",
              "      <td>276.300439</td>\n",
              "      <td>282.985229</td>\n",
              "      <td>276.300439</td>\n",
              "      <td>262.333789</td>\n",
              "      <td>276.962134</td>\n",
              "      <td>280.083057</td>\n",
              "      <td>281.141064</td>\n",
              "      <td>272.500946</td>\n",
              "      <td>14.250</td>\n",
              "      <td>3.750</td>\n",
              "      <td>29.905515</td>\n",
              "      <td>15.500</td>\n",
              "      <td>29.750</td>\n",
              "      <td>15.750</td>\n",
              "      <td>0.0034</td>\n",
              "      <td>0.0</td>\n",
              "      <td>0.00000</td>\n",
              "      <td>0.0</td>\n",
              "      <td>0.0</td>\n",
              "      <td>0.0</td>\n",
              "      <td>0.00000</td>\n",
              "      <td>-1.327548</td>\n",
              "      <td>-2.914091</td>\n",
              "      <td>18.357608</td>\n",
              "      <td>8.480661</td>\n",
              "      <td>-1.510544</td>\n",
              "      <td>-0.465033</td>\n",
              "      <td>-0.126199</td>\n",
              "      <td>...</td>\n",
              "      <td>7.345331</td>\n",
              "      <td>7.926080</td>\n",
              "      <td>8.841516</td>\n",
              "      <td>9.350854</td>\n",
              "      <td>9.077112</td>\n",
              "      <td>1.966156</td>\n",
              "      <td>9.077112</td>\n",
              "      <td>11.043268</td>\n",
              "      <td>0.0</td>\n",
              "      <td>0.0</td>\n",
              "      <td>0.0</td>\n",
              "      <td>0.0</td>\n",
              "      <td>-2.328149</td>\n",
              "      <td>0.509014</td>\n",
              "      <td>2.383144</td>\n",
              "      <td>1.0</td>\n",
              "      <td>280.888000</td>\n",
              "      <td>280.420593</td>\n",
              "      <td>100927.414062</td>\n",
              "      <td>0.623658</td>\n",
              "      <td>-2.533346</td>\n",
              "      <td>-3.091468</td>\n",
              "      <td>0.0</td>\n",
              "      <td>0.0</td>\n",
              "      <td>0.0</td>\n",
              "      <td>0.0</td>\n",
              "      <td>280.888000</td>\n",
              "      <td>-0.467407</td>\n",
              "      <td>0.000000</td>\n",
              "      <td>0.000000</td>\n",
              "      <td>0.0</td>\n",
              "      <td>0.0</td>\n",
              "      <td>0.0</td>\n",
              "      <td>0.0</td>\n",
              "      <td>0.0</td>\n",
              "      <td>0.0</td>\n",
              "      <td>-2.600006</td>\n",
              "      <td>-2.750006</td>\n",
              "      <td>0.0</td>\n",
              "      <td>0.0</td>\n",
              "    </tr>\n",
              "    <tr>\n",
              "      <th>1</th>\n",
              "      <td>1.538776e+09</td>\n",
              "      <td>29.374201</td>\n",
              "      <td>-100.927002</td>\n",
              "      <td>31.0</td>\n",
              "      <td>20.0</td>\n",
              "      <td>mild temperate</td>\n",
              "      <td>297.0</td>\n",
              "      <td>41.531032</td>\n",
              "      <td>26.992143</td>\n",
              "      <td>733.117168</td>\n",
              "      <td>305.860669</td>\n",
              "      <td>-1.361548</td>\n",
              "      <td>303.629541</td>\n",
              "      <td>302.267993</td>\n",
              "      <td>303.629541</td>\n",
              "      <td>267.178882</td>\n",
              "      <td>286.211719</td>\n",
              "      <td>291.642969</td>\n",
              "      <td>298.615479</td>\n",
              "      <td>293.701019</td>\n",
              "      <td>11.500</td>\n",
              "      <td>9.875</td>\n",
              "      <td>22.468424</td>\n",
              "      <td>26.500</td>\n",
              "      <td>1.375</td>\n",
              "      <td>6.250</td>\n",
              "      <td>0.0172</td>\n",
              "      <td>0.0</td>\n",
              "      <td>5.67340</td>\n",
              "      <td>0.0</td>\n",
              "      <td>0.0</td>\n",
              "      <td>0.0</td>\n",
              "      <td>0.00000</td>\n",
              "      <td>-3.568011</td>\n",
              "      <td>-3.632005</td>\n",
              "      <td>4.370947</td>\n",
              "      <td>0.653320</td>\n",
              "      <td>-3.227249</td>\n",
              "      <td>-4.499048</td>\n",
              "      <td>7.287793</td>\n",
              "      <td>...</td>\n",
              "      <td>24.699792</td>\n",
              "      <td>27.050012</td>\n",
              "      <td>29.526605</td>\n",
              "      <td>31.950006</td>\n",
              "      <td>32.831812</td>\n",
              "      <td>-2.257446</td>\n",
              "      <td>32.831812</td>\n",
              "      <td>30.574365</td>\n",
              "      <td>0.0</td>\n",
              "      <td>0.0</td>\n",
              "      <td>23.0</td>\n",
              "      <td>0.0</td>\n",
              "      <td>-3.851841</td>\n",
              "      <td>7.031523</td>\n",
              "      <td>8.017418</td>\n",
              "      <td>1.0</td>\n",
              "      <td>302.893005</td>\n",
              "      <td>303.356781</td>\n",
              "      <td>97645.507812</td>\n",
              "      <td>0.651412</td>\n",
              "      <td>-3.482976</td>\n",
              "      <td>5.238701</td>\n",
              "      <td>0.0</td>\n",
              "      <td>0.0</td>\n",
              "      <td>0.0</td>\n",
              "      <td>0.0</td>\n",
              "      <td>302.893005</td>\n",
              "      <td>0.463776</td>\n",
              "      <td>0.000000</td>\n",
              "      <td>5.673400</td>\n",
              "      <td>0.0</td>\n",
              "      <td>0.0</td>\n",
              "      <td>0.0</td>\n",
              "      <td>0.0</td>\n",
              "      <td>0.0</td>\n",
              "      <td>0.0</td>\n",
              "      <td>-0.600006</td>\n",
              "      <td>17.950006</td>\n",
              "      <td>-12.0</td>\n",
              "      <td>11.0</td>\n",
              "    </tr>\n",
              "    <tr>\n",
              "      <th>2</th>\n",
              "      <td>1.552115e+09</td>\n",
              "      <td>22.149599</td>\n",
              "      <td>113.592003</td>\n",
              "      <td>17.0</td>\n",
              "      <td>10.0</td>\n",
              "      <td>mild temperate</td>\n",
              "      <td>-1.0</td>\n",
              "      <td>43.916531</td>\n",
              "      <td>18.842143</td>\n",
              "      <td>761.571076</td>\n",
              "      <td>294.469702</td>\n",
              "      <td>0.282837</td>\n",
              "      <td>295.153361</td>\n",
              "      <td>295.341919</td>\n",
              "      <td>295.059082</td>\n",
              "      <td>268.584375</td>\n",
              "      <td>280.319653</td>\n",
              "      <td>288.922583</td>\n",
              "      <td>292.259375</td>\n",
              "      <td>293.914505</td>\n",
              "      <td>0.750</td>\n",
              "      <td>1.000</td>\n",
              "      <td>25.403430</td>\n",
              "      <td>1.625</td>\n",
              "      <td>2.375</td>\n",
              "      <td>0.125</td>\n",
              "      <td>0.0161</td>\n",
              "      <td>0.0</td>\n",
              "      <td>82.66500</td>\n",
              "      <td>0.0</td>\n",
              "      <td>0.0</td>\n",
              "      <td>0.0</td>\n",
              "      <td>0.00003</td>\n",
              "      <td>0.674461</td>\n",
              "      <td>0.812148</td>\n",
              "      <td>28.046518</td>\n",
              "      <td>20.135425</td>\n",
              "      <td>11.603281</td>\n",
              "      <td>5.047708</td>\n",
              "      <td>1.483844</td>\n",
              "      <td>...</td>\n",
              "      <td>17.325555</td>\n",
              "      <td>18.692010</td>\n",
              "      <td>20.252496</td>\n",
              "      <td>21.868280</td>\n",
              "      <td>23.101434</td>\n",
              "      <td>0.287476</td>\n",
              "      <td>23.197260</td>\n",
              "      <td>23.388910</td>\n",
              "      <td>3600.0</td>\n",
              "      <td>0.0</td>\n",
              "      <td>7.0</td>\n",
              "      <td>0.0</td>\n",
              "      <td>1.512065</td>\n",
              "      <td>4.074417</td>\n",
              "      <td>4.345942</td>\n",
              "      <td>1.0</td>\n",
              "      <td>295.782043</td>\n",
              "      <td>295.726929</td>\n",
              "      <td>100751.773438</td>\n",
              "      <td>0.989764</td>\n",
              "      <td>3.433286</td>\n",
              "      <td>5.181113</td>\n",
              "      <td>0.0</td>\n",
              "      <td>0.0</td>\n",
              "      <td>0.0</td>\n",
              "      <td>0.0</td>\n",
              "      <td>295.782043</td>\n",
              "      <td>-0.055115</td>\n",
              "      <td>0.771400</td>\n",
              "      <td>83.436400</td>\n",
              "      <td>0.0</td>\n",
              "      <td>0.0</td>\n",
              "      <td>0.0</td>\n",
              "      <td>0.0</td>\n",
              "      <td>0.0</td>\n",
              "      <td>0.0</td>\n",
              "      <td>-0.233978</td>\n",
              "      <td>21.450006</td>\n",
              "      <td>1.0</td>\n",
              "      <td>8.0</td>\n",
              "    </tr>\n",
              "    <tr>\n",
              "      <th>3</th>\n",
              "      <td>1.549566e+09</td>\n",
              "      <td>34.678699</td>\n",
              "      <td>-86.684799</td>\n",
              "      <td>24.0</td>\n",
              "      <td>20.0</td>\n",
              "      <td>mild temperate</td>\n",
              "      <td>193.0</td>\n",
              "      <td>40.240955</td>\n",
              "      <td>8.303571</td>\n",
              "      <td>747.524910</td>\n",
              "      <td>295.118774</td>\n",
              "      <td>1.091162</td>\n",
              "      <td>296.376611</td>\n",
              "      <td>297.467773</td>\n",
              "      <td>296.376611</td>\n",
              "      <td>262.566675</td>\n",
              "      <td>278.622852</td>\n",
              "      <td>285.923389</td>\n",
              "      <td>290.274927</td>\n",
              "      <td>288.752838</td>\n",
              "      <td>6.125</td>\n",
              "      <td>7.500</td>\n",
              "      <td>5.767445</td>\n",
              "      <td>14.000</td>\n",
              "      <td>4.875</td>\n",
              "      <td>4.125</td>\n",
              "      <td>0.0120</td>\n",
              "      <td>0.0</td>\n",
              "      <td>4.08775</td>\n",
              "      <td>0.0</td>\n",
              "      <td>0.0</td>\n",
              "      <td>0.0</td>\n",
              "      <td>0.00000</td>\n",
              "      <td>2.791129</td>\n",
              "      <td>2.760229</td>\n",
              "      <td>29.527142</td>\n",
              "      <td>25.678796</td>\n",
              "      <td>14.091809</td>\n",
              "      <td>6.503445</td>\n",
              "      <td>6.488293</td>\n",
              "      <td>...</td>\n",
              "      <td>12.791437</td>\n",
              "      <td>13.875513</td>\n",
              "      <td>15.751978</td>\n",
              "      <td>17.743524</td>\n",
              "      <td>19.321313</td>\n",
              "      <td>2.133026</td>\n",
              "      <td>19.321313</td>\n",
              "      <td>21.454340</td>\n",
              "      <td>0.0</td>\n",
              "      <td>21.0</td>\n",
              "      <td>99.0</td>\n",
              "      <td>0.0</td>\n",
              "      <td>2.277510</td>\n",
              "      <td>7.151445</td>\n",
              "      <td>7.505346</td>\n",
              "      <td>1.0</td>\n",
              "      <td>295.235687</td>\n",
              "      <td>296.000824</td>\n",
              "      <td>99450.273438</td>\n",
              "      <td>0.749565</td>\n",
              "      <td>-0.158933</td>\n",
              "      <td>8.494842</td>\n",
              "      <td>0.0</td>\n",
              "      <td>0.0</td>\n",
              "      <td>0.0</td>\n",
              "      <td>0.0</td>\n",
              "      <td>295.235687</td>\n",
              "      <td>0.765137</td>\n",
              "      <td>0.000000</td>\n",
              "      <td>4.087750</td>\n",
              "      <td>0.0</td>\n",
              "      <td>0.0</td>\n",
              "      <td>0.0</td>\n",
              "      <td>0.0</td>\n",
              "      <td>0.0</td>\n",
              "      <td>0.0</td>\n",
              "      <td>0.059448</td>\n",
              "      <td>16.150018</td>\n",
              "      <td>-58.0</td>\n",
              "      <td>41.0</td>\n",
              "    </tr>\n",
              "    <tr>\n",
              "      <th>4</th>\n",
              "      <td>1.552910e+09</td>\n",
              "      <td>46.066667</td>\n",
              "      <td>41.966667</td>\n",
              "      <td>9.0</td>\n",
              "      <td>20.0</td>\n",
              "      <td>dry</td>\n",
              "      <td>90.0</td>\n",
              "      <td>30.394660</td>\n",
              "      <td>6.451429</td>\n",
              "      <td>753.168113</td>\n",
              "      <td>281.233203</td>\n",
              "      <td>-1.461133</td>\n",
              "      <td>282.810181</td>\n",
              "      <td>281.349048</td>\n",
              "      <td>282.810181</td>\n",
              "      <td>242.905981</td>\n",
              "      <td>258.822461</td>\n",
              "      <td>269.483154</td>\n",
              "      <td>274.965063</td>\n",
              "      <td>275.815735</td>\n",
              "      <td>7.000</td>\n",
              "      <td>6.875</td>\n",
              "      <td>19.727903</td>\n",
              "      <td>4.125</td>\n",
              "      <td>1.000</td>\n",
              "      <td>2.250</td>\n",
              "      <td>0.0057</td>\n",
              "      <td>0.0</td>\n",
              "      <td>4.04475</td>\n",
              "      <td>0.0</td>\n",
              "      <td>0.0</td>\n",
              "      <td>0.0</td>\n",
              "      <td>0.00000</td>\n",
              "      <td>2.635770</td>\n",
              "      <td>3.278284</td>\n",
              "      <td>8.752283</td>\n",
              "      <td>6.223914</td>\n",
              "      <td>3.826746</td>\n",
              "      <td>3.674579</td>\n",
              "      <td>-1.011131</td>\n",
              "      <td>...</td>\n",
              "      <td>0.783167</td>\n",
              "      <td>2.854852</td>\n",
              "      <td>5.040155</td>\n",
              "      <td>7.147913</td>\n",
              "      <td>10.949976</td>\n",
              "      <td>-1.080627</td>\n",
              "      <td>10.949976</td>\n",
              "      <td>9.869348</td>\n",
              "      <td>0.0</td>\n",
              "      <td>0.0</td>\n",
              "      <td>74.0</td>\n",
              "      <td>9.0</td>\n",
              "      <td>2.866836</td>\n",
              "      <td>-1.849202</td>\n",
              "      <td>3.411494</td>\n",
              "      <td>1.0</td>\n",
              "      <td>281.861969</td>\n",
              "      <td>282.492462</td>\n",
              "      <td>100790.546875</td>\n",
              "      <td>0.707056</td>\n",
              "      <td>1.406434</td>\n",
              "      <td>1.084141</td>\n",
              "      <td>0.0</td>\n",
              "      <td>0.0</td>\n",
              "      <td>0.0</td>\n",
              "      <td>0.0</td>\n",
              "      <td>281.861969</td>\n",
              "      <td>0.630493</td>\n",
              "      <td>0.142125</td>\n",
              "      <td>4.186875</td>\n",
              "      <td>0.0</td>\n",
              "      <td>0.0</td>\n",
              "      <td>0.0</td>\n",
              "      <td>0.0</td>\n",
              "      <td>0.0</td>\n",
              "      <td>0.0</td>\n",
              "      <td>0.400024</td>\n",
              "      <td>3.150018</td>\n",
              "      <td>18.0</td>\n",
              "      <td>92.0</td>\n",
              "    </tr>\n",
              "  </tbody>\n",
              "</table>\n",
              "<p>5 rows × 129 columns</p>\n",
              "</div>"
            ],
            "text/plain": [
              "      fact_time  ...  gfs_total_clouds_cover_low_next\n",
              "0  1.543321e+09  ...                              0.0\n",
              "1  1.538776e+09  ...                             11.0\n",
              "2  1.552115e+09  ...                              8.0\n",
              "3  1.549566e+09  ...                             41.0\n",
              "4  1.552910e+09  ...                             92.0\n",
              "\n",
              "[5 rows x 129 columns]"
            ]
          },
          "metadata": {},
          "execution_count": 5
        }
      ]
    },
    {
      "cell_type": "code",
      "metadata": {
        "id": "ck8D9GwGiVrg"
      },
      "source": [
        "df_dev_in = pd.read_csv('/content/drive/MyDrive/dataset/data/dev_in.csv')\n",
        "df_dev_out = pd.read_csv('/content/drive/MyDrive/dataset/data/dev_out.csv')"
      ],
      "execution_count": 6,
      "outputs": []
    },
    {
      "cell_type": "code",
      "metadata": {
        "id": "tuLJMohgku0k"
      },
      "source": [
        "def visualize_temperatures(df_list, df_names, plot_type='histogram'):\n",
        "    '''\n",
        "    Compare the distribution of temperature labels in datasets\n",
        "\n",
        "    Supported visualization formats:\n",
        "     - histogram\n",
        "     - violin\n",
        "    '''\n",
        "    temperatures = np.concatenate([df['fact_temperature'] for df in df_list])\n",
        "    names = np.concatenate([[name]*len(df) for name, df in zip(df_names, df_list)])\n",
        "\n",
        "    df_to_plot = pd.DataFrame(data={'Temperature': temperatures, 'Dataset Name':names})\n",
        "\n",
        "    if plot_type == 'histogram':\n",
        "        sns.histplot(\n",
        "            data=df_to_plot, x=\"Temperature\", hue=\"Dataset Name\",\n",
        "            element=\"step\", stat=\"density\", common_norm=False)\n",
        "    elif plot_type == 'violin':\n",
        "        sns.violinplot(x='Temperature', y='Dataset Name',\n",
        "                              data=df_to_plot, scale='width', palette='Set3')\n",
        "    else:\n",
        "        raise ValueError(\"Unsupported plot_type\")\n",
        "    \n",
        "    plt.show()\n",
        "    plt.clf()"
      ],
      "execution_count": 7,
      "outputs": []
    },
    {
      "cell_type": "code",
      "metadata": {
        "id": "FqKf93cSi72Q"
      },
      "source": [
        "df_names = ['train', 'dev_in', 'dev_out']\n",
        "df_list = [df_train, df_dev_in, df_dev_out]"
      ],
      "execution_count": 8,
      "outputs": []
    },
    {
      "cell_type": "code",
      "metadata": {
        "id": "Ptz1HnfSj03-",
        "colab": {
          "base_uri": "https://localhost:8080/",
          "height": 296
        },
        "outputId": "b05a10d9-623e-456b-8963-1d65eece3c1e"
      },
      "source": [
        "visualize_temperatures(df_list, df_names, plot_type='violin')"
      ],
      "execution_count": null,
      "outputs": [
        {
          "output_type": "display_data",
          "data": {
            "image/png": "[encoded data removed]",
            "text/plain": [
              "<Figure size 432x288 with 1 Axes>"
            ]
          },
          "metadata": {
            "needs_background": "light"
          }
        },
        {
          "output_type": "display_data",
          "data": {
            "text/plain": [
              "<Figure size 432x288 with 0 Axes>"
            ]
          },
          "metadata": {}
        }
      ]
    },
    {
      "cell_type": "code",
      "metadata": {
        "id": "a_8-lv5nlCdX",
        "colab": {
          "base_uri": "https://localhost:8080/",
          "height": 296
        },
        "outputId": "00548d3b-07e1-4772-cc80-d4c15f6ea79e"
      },
      "source": [
        "visualize_temperatures(df_list, df_names, plot_type='histogram')"
      ],
      "execution_count": null,
      "outputs": [
        {
          "output_type": "display_data",
          "data": {
            "image/png": "[encoded data removed]",
            "text/plain": [
              "<Figure size 432x288 with 1 Axes>"
            ]
          },
          "metadata": {
            "needs_background": "light"
          }
        },
        {
          "output_type": "display_data",
          "data": {
            "text/plain": [
              "<Figure size 432x288 with 0 Axes>"
            ]
          },
          "metadata": {}
        }
      ]
    },
    {
      "cell_type": "code",
      "metadata": {
        "id": "m--CDVcHlPGM"
      },
      "source": [
        "X_train = df_train.iloc[:,6:]\n",
        "X_dev_in = df_dev_in.iloc[:,6:]\n",
        "y_train = df_train['fact_temperature']\n",
        "y_dev_in = df_dev_in['fact_temperature']"
      ],
      "execution_count": 9,
      "outputs": []
    },
    {
      "cell_type": "code",
      "metadata": {
        "id": "UkvrtcCIlaQF"
      },
      "source": [
        "ensemble_size = 3\n",
        "depth = 2\n",
        "iterations = 200\n",
        "learning_rate = 0.03"
      ],
      "execution_count": 10,
      "outputs": []
    },
    {
      "cell_type": "code",
      "metadata": {
        "id": "q57EAonqlzF2",
        "colab": {
          "base_uri": "https://localhost:8080/"
        },
        "outputId": "f4463164-0b73-4a1b-c369-f1143af550e9"
      },
      "source": [
        "!pip install catboost"
      ],
      "execution_count": 11,
      "outputs": [
        {
          "output_type": "stream",
          "name": "stdout",
          "text": [
            "Collecting catboost\n",
            "  Downloading catboost-1.0.0-cp37-none-manylinux1_x86_64.whl (76.4 MB)\n",
            "\u001b[K     |████████████████████████████████| 76.4 MB 1.3 MB/s \n",
            "\u001b[?25hRequirement already satisfied: six in /usr/local/lib/python3.7/dist-packages (from catboost) (1.15.0)\n",
            "Requirement already satisfied: plotly in /usr/local/lib/python3.7/dist-packages (from catboost) (4.4.1)\n",
            "Requirement already satisfied: pandas>=0.24.0 in /usr/local/lib/python3.7/dist-packages (from catboost) (1.1.5)\n",
            "Requirement already satisfied: numpy>=1.16.0 in /usr/local/lib/python3.7/dist-packages (from catboost) (1.19.5)\n",
            "Requirement already satisfied: scipy in /usr/local/lib/python3.7/dist-packages (from catboost) (1.4.1)\n",
            "Requirement already satisfied: graphviz in /usr/local/lib/python3.7/dist-packages (from catboost) (0.10.1)\n",
            "Requirement already satisfied: matplotlib in /usr/local/lib/python3.7/dist-packages (from catboost) (3.2.2)\n",
            "Requirement already satisfied: python-dateutil>=2.7.3 in /usr/local/lib/python3.7/dist-packages (from pandas>=0.24.0->catboost) (2.8.2)\n",
            "Requirement already satisfied: pytz>=2017.2 in /usr/local/lib/python3.7/dist-packages (from pandas>=0.24.0->catboost) (2018.9)\n",
            "Requirement already satisfied: pyparsing!=2.0.4,!=2.1.2,!=2.1.6,>=2.0.1 in /usr/local/lib/python3.7/dist-packages (from matplotlib->catboost) (2.4.7)\n",
            "Requirement already satisfied: kiwisolver>=1.0.1 in /usr/local/lib/python3.7/dist-packages (from matplotlib->catboost) (1.3.2)\n",
            "Requirement already satisfied: cycler>=0.10 in /usr/local/lib/python3.7/dist-packages (from matplotlib->catboost) (0.10.0)\n",
            "Requirement already satisfied: retrying>=1.3.3 in /usr/local/lib/python3.7/dist-packages (from plotly->catboost) (1.3.3)\n",
            "Installing collected packages: catboost\n",
            "Successfully installed catboost-1.0.0\n"
          ]
        }
      ]
    },
    {
      "cell_type": "markdown",
      "metadata": {
        "id": "rfQT2yObw4Fb"
      },
      "source": [
        "# **Training**"
      ]
    },
    {
      "cell_type": "code",
      "metadata": {
        "id": "utqh_2hWlg77"
      },
      "source": [
        "# Train ensemble of models\n",
        "\n",
        "import catboost\n",
        "\n",
        "trained_models = []\n",
        "for seed in range(ensemble_size):\n",
        "    \n",
        "    model = catboost.CatBoostRegressor(\n",
        "        learning_rate = learning_rate,\n",
        "        iterations = iterations,\n",
        "        depth = depth,\n",
        "        loss_function = 'RMSEWithUncertainty',\n",
        "        eval_metric = 'RMSE',\n",
        "        random_seed = seed)\n",
        "    \n",
        "    print(f'\\n Model index: {seed}\\n')\n",
        "    \n",
        "    model.fit(\n",
        "        X_train,\n",
        "        y_train,\n",
        "        verbose = 100,\n",
        "        eval_set = (X_dev_in, y_dev_in))\n",
        "    \n",
        "    trained_models.append(model)"
      ],
      "execution_count": null,
      "outputs": []
    },
    {
      "cell_type": "markdown",
      "metadata": {
        "id": "y8svU7cWxErf"
      },
      "source": [
        "# Save models"
      ]
    },
    {
      "cell_type": "code",
      "metadata": {
        "id": "ZyHpusoelro6"
      },
      "source": [
        "dir_path = '/content/drive/MyDrive/saved-models'\n",
        "for i, model in enumerate(trained_models):\n",
        "    model.save_model(f'{dir_path}/model{i+1}.cbm')"
      ],
      "execution_count": null,
      "outputs": []
    },
    {
      "cell_type": "markdown",
      "metadata": {
        "id": "wB1CXBlFxIig"
      },
      "source": [
        "# Load saved models"
      ]
    },
    {
      "cell_type": "code",
      "metadata": {
        "id": "2Lzt7VPGo6H0"
      },
      "source": [
        "import catboost"
      ],
      "execution_count": 12,
      "outputs": []
    },
    {
      "cell_type": "code",
      "metadata": {
        "id": "gP0jWFxJmHqC"
      },
      "source": [
        "dir_path = '/content/drive/MyDrive/saved-models'\n",
        "trained_models = []\n",
        "\n",
        "# 3 models trained above in this tutorial\n",
        "ensemble_size=10\n",
        "\n",
        "for i in range(1, ensemble_size+1):\n",
        "    model = catboost.CatBoostRegressor()\n",
        "    model.load_model(f'{dir_path}/model{i}.cbm')\n",
        "    trained_models.append(model)"
      ],
      "execution_count": 13,
      "outputs": []
    },
    {
      "cell_type": "code",
      "metadata": {
        "id": "owhZOfYTmPdP"
      },
      "source": [
        "dir_path = '/content/drive/MyDrive/baseline/baseline-models'\n",
        "baseline_models = []\n",
        "\n",
        "# 10 models provided\n",
        "ensemble_size=10\n",
        "\n",
        "for ind in range(1, ensemble_size+1):\n",
        "    model = catboost.CatBoostRegressor()\n",
        "    model.load_model(f'{dir_path}/seed{ind}.cbm')\n",
        "    baseline_models.append(model)\n"
      ],
      "execution_count": 14,
      "outputs": []
    },
    {
      "cell_type": "code",
      "metadata": {
        "id": "rwdjYWTQr8e9"
      },
      "source": [
        "# Create a combined evaluation dataset and keep only the features\n",
        "df_dev = pd.concat([df_dev_in, df_dev_out])\n",
        "X_dev = df_dev.iloc[:,6:]"
      ],
      "execution_count": 15,
      "outputs": []
    },
    {
      "cell_type": "markdown",
      "metadata": {
        "id": "olkqpohyRzVt"
      },
      "source": [
        "# Get Predictions"
      ]
    },
    {
      "cell_type": "code",
      "metadata": {
        "id": "GTIzy5TPr_QS"
      },
      "source": [
        "# Get ensemble of predictions for each data point\n",
        "\n",
        "def get_predictions(features_df, model):\n",
        "    '''\n",
        "    Calculates predictions on df features for specified model\n",
        "    \n",
        "    Return: array [num_samples x 2],\n",
        "        where\n",
        "            num_samples = number of rows in features_df\n",
        "            2 = [mean, variance]\n",
        "    \n",
        "    '''\n",
        "    return model.predict(features_df)\n",
        "\n",
        "\n",
        "def get_all_predictions(features_df, models_list):\n",
        "    '''\n",
        "    Return: array [ensemble_size x num_samples x 2],\n",
        "        where\n",
        "            ensemble_size = number of models in models_list\n",
        "            num_samples = number of rows in features_df\n",
        "            2 = [mean, variance]\n",
        "    '''\n",
        "    all_preds = []\n",
        "    for model in models_list:\n",
        "        preds = np.asarray(get_predictions(features_df, model))\n",
        "        all_preds.append(preds)\n",
        "    return np.stack(all_preds, axis=0)\n",
        "\n",
        "\n",
        "all_preds = get_all_predictions(X_dev, baseline_models)"
      ],
      "execution_count": 16,
      "outputs": []
    },
    {
      "cell_type": "code",
      "metadata": {
        "id": "VVpng1mDsFHX"
      },
      "source": [
        "def entropy_of_expected_class(probs, epsilon=1e-10):\n",
        "    \"\"\"\n",
        "    :param probs: array [num_models, num_examples, num_classes]\n",
        "    :return: array [num_examples}\n",
        "    \"\"\"\n",
        "    mean_probs = np.mean(probs, axis=0)\n",
        "    log_probs = -np.log(mean_probs + epsilon)\n",
        "    return np.sum(mean_probs * log_probs, axis=1)\n",
        "\n",
        "\n",
        "def expected_entropy_class(probs, epsilon=1e-10):\n",
        "    \"\"\"\n",
        "    :param probs: array [num_models, num_examples, num_classes]\n",
        "    :return: array [num_examples}\n",
        "    \"\"\"\n",
        "    log_probs = -np.log(probs + epsilon)\n",
        "\n",
        "    return np.mean(np.sum(probs * log_probs, axis=2), axis=0)\n",
        "\n",
        "\n",
        "def ensemble_uncertainties_classification(probs, epsilon=1e-10):\n",
        "    \"\"\"\n",
        "    :param probs: array [num_models, num_examples, num_classes]\n",
        "    :return: Dictionary of uncertaintties\n",
        "    \"\"\"\n",
        "    mean_probs = np.mean(probs, axis=0)\n",
        "    mean_lprobs = np.mean(np.log(probs + epsilon), axis=0)\n",
        "    conf = np.max(mean_probs, axis=1)\n",
        "\n",
        "    eoe = entropy_of_expected_class(probs, epsilon)\n",
        "    exe = expected_entropy_class(probs, epsilon)\n",
        "\n",
        "    mutual_info = eoe - exe\n",
        "\n",
        "    epkl = -np.sum(mean_probs * mean_lprobs, axis=1) - exe\n",
        "\n",
        "    uncertainty = {'confidence': conf,\n",
        "                   'entropy_of_expected': eoe,\n",
        "                   'expected_entropy': exe,\n",
        "                   'mutual_information': mutual_info,\n",
        "                   'epkl': epkl,\n",
        "                   'reverse_mutual_information': epkl - mutual_info\n",
        "                   }\n",
        "\n",
        "    return uncertainty\n",
        "\n",
        "\n",
        "def epkl_reg(preds, epsilon=1e-10):\n",
        "    \"\"\"\n",
        "    preds: array [n_models, n_samples, 2] - mean and var along last axis.\n",
        "    \"\"\"\n",
        "    means = preds[:, :, 0]\n",
        "    vars = preds[:, :, 1] + epsilon\n",
        "    logvars = np.log(vars)\n",
        "\n",
        "    avg_means = np.mean(means, axis=0)\n",
        "    avg_second_moments = np.mean(means * means + vars, axis=0)\n",
        "\n",
        "    inv_vars = 1.0 / vars\n",
        "    avg_inv_vars = np.mean(inv_vars, axis=0)\n",
        "    mean_inv_var = inv_vars * means\n",
        "    avg_mean_inv_var = np.mean(mean_inv_var, axis=0)\n",
        "    avg_mean2_inv_var = np.mean(means * mean_inv_var + logvars, axis=0) + np.log(2 * np.pi)\n",
        "\n",
        "    epkl = 0.5 * (avg_second_moments * avg_inv_vars - 2 * avg_means * avg_mean_inv_var + avg_mean2_inv_var)\n",
        "\n",
        "    return epkl\n",
        "\n",
        "\n",
        "\n",
        "def ensemble_uncertainties_regression(preds, errors):\n",
        "    \"\"\"\n",
        "    preds: array [n_models, n_samples, 2] - last dim is mean, var\n",
        "    \"\"\"\n",
        "    epkl = epkl_reg(preds)\n",
        "    var_mean = np.var(preds[:, :, 0], axis=0)\n",
        "    mean_var = np.mean(preds[:, :, 1], axis=0)\n",
        "\n",
        "    uncertainty = {'tvar': var_mean + mean_var,\n",
        "                   'mvar': mean_var,\n",
        "                   'varm': var_mean,\n",
        "                   'epkl': epkl}\n",
        "\n",
        "    return uncertainty"
      ],
      "execution_count": 17,
      "outputs": []
    },
    {
      "cell_type": "code",
      "metadata": {
        "id": "0JWp_pPhsbIm"
      },
      "source": [
        "# Get ensemble predictions\n",
        "all_preds_mean = all_preds[0,:,0]\n",
        "avg_preds = all_preds_mean#np.squeeze(np.mean(all_preds_mean, axis=0))#all_preds_mean \n",
        "# Get target values\n",
        "targets = np.asarray(df_dev['fact_temperature'])\n",
        "\n",
        "# squared error\n",
        "errors = (avg_preds - targets) ** 2"
      ],
      "execution_count": 29,
      "outputs": []
    },
    {
      "cell_type": "code",
      "metadata": {
        "id": "io3QefcosYBg"
      },
      "source": [
        "all_uncertainty = ensemble_uncertainties_regression(all_preds, errors)\n",
        "uncertainties = all_uncertainty['tvar']"
      ],
      "execution_count": 30,
      "outputs": []
    },
    {
      "cell_type": "markdown",
      "metadata": {
        "id": "Pm8gTuIUAfy0"
      },
      "source": [
        "# **ENCE and Covariance Coeffecient**"
      ]
    },
    {
      "cell_type": "code",
      "metadata": {
        "colab": {
          "base_uri": "https://localhost:8080/"
        },
        "id": "nEraVg7rrp3a",
        "outputId": "82d62f3e-4244-46fb-c4a5-5e7bf9e89fc9"
      },
      "source": [
        "all_preds_var = all_preds[0,:,1]\n",
        "avg_preds_var = all_preds_var#np.squeeze(np.mean(all_preds_var, axis=0))#all_preds_var \n",
        "print(avg_preds.shape, avg_preds_var.shape)\n",
        "print(avg_preds_var.min())\n",
        "print(avg_preds_var.max())\n",
        "print(avg_preds_var[0])"
      ],
      "execution_count": 31,
      "outputs": [
        {
          "output_type": "stream",
          "name": "stdout",
          "text": [
            "(100000,) (100000,)\n",
            "1.5482729070319812e-16\n",
            "1.1033528453839036e+37\n",
            "1.963126860320886\n"
          ]
        }
      ]
    },
    {
      "cell_type": "code",
      "metadata": {
        "colab": {
          "base_uri": "https://localhost:8080/"
        },
        "id": "aVOb-pr6rkGf",
        "outputId": "21a38789-fa62-4eff-92e4-258397de5eac"
      },
      "source": [
        "def arrange(apv, ap, errs):\n",
        "  idx = apv.argsort()\n",
        "  apv = apv[idx]\n",
        "  ap = ap[idx]\n",
        "  errs = errs[idx]\n",
        "  return apv, ap, errs\n",
        "\n",
        "apv_arr,ap_arr, err_arr = arrange(avg_preds_var, avg_preds, errors)\n",
        "print(avg_preds[0], ap_arr[0])\n",
        "print(avg_preds_var[0], apv_arr[0])\n",
        "print(err_arr.shape)"
      ],
      "execution_count": 32,
      "outputs": [
        {
          "output_type": "stream",
          "name": "stdout",
          "text": [
            "10.040559583957656 19.445638001618967\n",
            "1.963126860320886 1.5482729070319812e-16\n",
            "(100000,)\n"
          ]
        }
      ]
    },
    {
      "cell_type": "code",
      "metadata": {
        "id": "5BXGe8exrkgP"
      },
      "source": [
        "def create_bins(ap_arr, apv_arr):\n",
        "  N = 500           #number of bins\n",
        "  bins = {}\n",
        "  j = 200\n",
        "  for i in range(0,N):\n",
        "    idx = j*i\n",
        "    bins[i+1] = {'mean':ap_arr[idx:idx+200], 'var':apv_arr[idx:idx+200]}\n",
        "  return bins\n",
        "\n",
        "bins = create_bins(ap_arr, apv_arr)\n",
        "#print(bins)"
      ],
      "execution_count": 33,
      "outputs": []
    },
    {
      "cell_type": "code",
      "metadata": {
        "id": "MVJRbLE_rkp4"
      },
      "source": [
        "def root_mean_var(bins):\n",
        "  rmv_list = []\n",
        "  for i, mv_dict in bins.items():\n",
        "    vars = mv_dict['var']\n",
        "    rms = np.sqrt(np.sum(np.array(vars))/vars.shape[0])\n",
        "    rmv_list.append(rms)\n",
        "  return rmv_list\n",
        "\n",
        "rmv_list = root_mean_var(bins)\n",
        "#print(rmv_list)"
      ],
      "execution_count": 34,
      "outputs": []
    },
    {
      "cell_type": "code",
      "metadata": {
        "id": "48euMxaYrksn"
      },
      "source": [
        "def root_mean_squared_error(bins, errs):\n",
        "  rmse_list = []\n",
        "  for i, mv_dict in bins.items():\n",
        "    means = mv_dict['mean']\n",
        "    idx = (i-1)*means.shape[0]\n",
        "    rmse = np.sqrt(np.sum(errs[idx:idx+200])/means.shape[0])\n",
        "    rmse_list.append(rmse)\n",
        "  return rmse_list\n",
        "\n",
        "rmse_list = root_mean_squared_error(bins, err_arr)\n",
        "#print(rmse_list)"
      ],
      "execution_count": 35,
      "outputs": []
    },
    {
      "cell_type": "code",
      "metadata": {
        "colab": {
          "base_uri": "https://localhost:8080/"
        },
        "id": "SHB14C0jrkzV",
        "outputId": "36f0b114-e74f-4450-c984-18a9aa1283cb"
      },
      "source": [
        "def get_ence(rmv_list, rmse_list):\n",
        "  rmv_array = np.array(rmv_list)\n",
        "  rmse_array = np.array(rmse_list)\n",
        "  ence = (1/rmv_array.shape[0])*np.sum(((np.abs(rmv_array - rmse_array))/rmv_array))\n",
        "\n",
        "  return ence\n",
        "\n",
        "ence = get_ence(rmv_list, rmse_list)\n",
        "print(ence)"
      ],
      "execution_count": 36,
      "outputs": [
        {
          "output_type": "stream",
          "name": "stdout",
          "text": [
            "3.551325869148706\n"
          ]
        }
      ]
    },
    {
      "cell_type": "code",
      "metadata": {
        "colab": {
          "base_uri": "https://localhost:8080/"
        },
        "id": "BhWVz322rk19",
        "outputId": "f933e4f9-e11e-47b5-b314-fe52c55aeb13"
      },
      "source": [
        "def var_coeff_std(avg_preds_var):\n",
        "  stds = np.sqrt(avg_preds_var)\n",
        "  mu = (np.sum(stds))/avg_preds_var.shape[0]\n",
        "  cv = (np.sqrt((np.sum((stds - mu)**2))/(avg_preds_var.shape[0] - 1)))/mu\n",
        "  return cv\n",
        "\n",
        "\n",
        "avg_preds_var = np.delete(avg_preds_var, np.where(avg_preds_var > 10))\n",
        "cv = var_coeff_std(avg_preds_var)\n",
        "print(cv)"
      ],
      "execution_count": 37,
      "outputs": [
        {
          "output_type": "stream",
          "name": "stdout",
          "text": [
            "0.5504970092627393\n"
          ]
        }
      ]
    },
    {
      "cell_type": "code",
      "metadata": {
        "colab": {
          "base_uri": "https://localhost:8080/"
        },
        "id": "SKJ02PdErk4S",
        "outputId": "af274f62-64ac-4951-d49c-746d2042108a"
      },
      "source": [
        "def lence(ence, cv):\n",
        "  return (np.log(ence + (1/cv)))\n",
        "\n",
        "print(lence(ence, cv))"
      ],
      "execution_count": 38,
      "outputs": [
        {
          "output_type": "stream",
          "name": "stdout",
          "text": [
            "1.6804304673299435\n"
          ]
        }
      ]
    },
    {
      "cell_type": "markdown",
      "metadata": {
        "id": "y7kbdM1asSnU"
      },
      "source": [
        "# **R3 Curve**"
      ]
    },
    {
      "cell_type": "markdown",
      "metadata": {
        "id": "-kI-EbvisvO6"
      },
      "source": [
        "# Ensemble"
      ]
    },
    {
      "cell_type": "code",
      "metadata": {
        "id": "3ly8tLn8dbSR"
      },
      "source": [
        "def root_mean_squared_error(errs):\n",
        "  rmse = np.sqrt(np.sum(errs)/errs.shape[0])\n",
        "  return rmse\n",
        "\n",
        "def root_mean_var(vars):\n",
        "  rmv = np.sqrt(np.sum(vars)/vars.shape[0])\n",
        "  return rmv"
      ],
      "execution_count": null,
      "outputs": []
    },
    {
      "cell_type": "code",
      "metadata": {
        "id": "yhEfniUWcgOC"
      },
      "source": [
        "#retention fraction\n",
        "N = 100000\n",
        "frac_list = []\n",
        "def arrange(apv, ap, errs):\n",
        "  idx = apv.argsort() #ascending order of variances\n",
        "  apv = apv[idx]\n",
        "  ap = ap[idx]\n",
        "  errs = errs[idx]\n",
        "  return apv, ap, errs\n",
        "\n",
        "apv_arr,ap_arr, err_arr = arrange(avg_preds_var, avg_preds, errors)\n",
        "\n",
        "retention_frac = [0.2, 0.4, 0.6, 0.8, 1.0]\n",
        "\n",
        "\n",
        "for i in retention_frac:\n",
        "  rmse = root_mean_squared_error(ap_arr[0:int(i*N)])\n",
        "  rmv = root_mean_var(apv_arr[0:int(i*N)])\n",
        "  frac = rmse/rmv\n",
        "  #frac = rmv/rmse\n",
        "  frac_list.append(frac)"
      ],
      "execution_count": null,
      "outputs": []
    },
    {
      "cell_type": "code",
      "metadata": {
        "id": "wLwk9kEWfKy8"
      },
      "source": [
        "frac_list.insert(0,0.0)"
      ],
      "execution_count": null,
      "outputs": []
    },
    {
      "cell_type": "code",
      "metadata": {
        "id": "o1IlXldefq-g"
      },
      "source": [
        "retention_frac.insert(0,0.0)"
      ],
      "execution_count": null,
      "outputs": []
    },
    {
      "cell_type": "code",
      "metadata": {
        "colab": {
          "base_uri": "https://localhost:8080/",
          "height": 279
        },
        "id": "Jb0IKKFVfcDQ",
        "outputId": "8d591e4f-8124-4784-81f2-df76849a7311"
      },
      "source": [
        "plt.plot(retention_frac, frac_list)\n",
        "plt.ylabel('RMSE/RMV')\n",
        "plt.xlabel(\"Retention fraction\")\n",
        "plt.show()"
      ],
      "execution_count": null,
      "outputs": [
        {
          "output_type": "display_data",
          "data": {
            "image/png": "[encoded data removed]",
            "text/plain": [
              "<Figure size 432x288 with 1 Axes>"
            ]
          },
          "metadata": {
            "needs_background": "light"
          }
        }
      ]
    },
    {
      "cell_type": "code",
      "metadata": {
        "id": "Z0l_tI3xke8g"
      },
      "source": [
        "frac_list_ens = frac_list\n",
        "ret_frac_list_ens = retention_frac"
      ],
      "execution_count": null,
      "outputs": []
    },
    {
      "cell_type": "markdown",
      "metadata": {
        "id": "1QprHhHagkah"
      },
      "source": [
        "# Single model"
      ]
    },
    {
      "cell_type": "code",
      "metadata": {
        "id": "s7KMgRoLgCK4"
      },
      "source": [
        "avg_preds = all_preds[0,:,0]\n",
        "#avg_preds = np.squeeze(np.mean(all_preds_mean, axis=0))\n",
        "\n",
        "# Get target values\n",
        "targets = np.asarray(df_dev['fact_temperature'])\n",
        "\n",
        "# squared error\n",
        "errors = (avg_preds - targets) ** 2"
      ],
      "execution_count": null,
      "outputs": []
    },
    {
      "cell_type": "code",
      "metadata": {
        "colab": {
          "base_uri": "https://localhost:8080/"
        },
        "id": "SdtjUoxqgGsV",
        "outputId": "1f000cad-b374-41f2-f507-5b5e2b0f9af2"
      },
      "source": [
        "avg_preds_var = all_preds[0,:,1]\n",
        "#avg_preds_var = np.squeeze(np.mean(all_preds_var, axis=0))\n",
        "print(avg_preds.shape, avg_preds_var.shape)\n",
        "print(avg_preds_var.min())\n",
        "print(avg_preds_var.max())\n",
        "print(avg_preds_var[0])"
      ],
      "execution_count": null,
      "outputs": [
        {
          "output_type": "stream",
          "name": "stdout",
          "text": [
            "(100000,) (100000,)\n",
            "1.5482729070319812e-16\n",
            "1.1033528453839036e+37\n",
            "1.963126860320886\n"
          ]
        }
      ]
    },
    {
      "cell_type": "code",
      "metadata": {
        "id": "9VlaZ5p9gGsc"
      },
      "source": [
        "def root_mean_squared_error(errs):\n",
        "  rmse = np.sqrt(np.sum(errs)/errs.shape[0])\n",
        "  return rmse\n",
        "\n",
        "def root_mean_var(vars):\n",
        "  rmv = np.sqrt(np.sum(vars)/vars.shape[0])\n",
        "  return rmv"
      ],
      "execution_count": null,
      "outputs": []
    },
    {
      "cell_type": "code",
      "metadata": {
        "id": "A5zQzOS8gGse"
      },
      "source": [
        "#retention fraction\n",
        "N = 100000\n",
        "frac_list = []\n",
        "def arrange(apv, ap, errs):\n",
        "  idx = apv.argsort() #ascending order of variances\n",
        "  apv = apv[idx]\n",
        "  ap = ap[idx]\n",
        "  errs = errs[idx]\n",
        "  return apv, ap, errs\n",
        "\n",
        "apv_arr,ap_arr, err_arr = arrange(avg_preds_var, avg_preds, errors)\n",
        "\n",
        "retention_frac = [0.2, 0.4, 0.6, 0.8, 1.0]\n",
        "for i in retention_frac:\n",
        "  rmse = root_mean_squared_error(ap_arr[0:int(i*N)])\n",
        "  rmv = root_mean_var(apv_arr[0:int(i*N)])\n",
        "  frac = rmse/rmv\n",
        "  frac_list.append(frac)"
      ],
      "execution_count": null,
      "outputs": []
    },
    {
      "cell_type": "code",
      "metadata": {
        "id": "jVqzDeIkgMVh"
      },
      "source": [
        "frac_list.insert(0,0.0)"
      ],
      "execution_count": null,
      "outputs": []
    },
    {
      "cell_type": "code",
      "metadata": {
        "id": "PF2Tu6b0gMVk"
      },
      "source": [
        "retention_frac.insert(0,0.0)"
      ],
      "execution_count": null,
      "outputs": []
    },
    {
      "cell_type": "code",
      "metadata": {
        "id": "4oQ0RjbbkTbx"
      },
      "source": [
        "frac_single = frac_list\n",
        "ret_frac_single = retention_frac"
      ],
      "execution_count": null,
      "outputs": []
    },
    {
      "cell_type": "code",
      "metadata": {
        "colab": {
          "base_uri": "https://localhost:8080/",
          "height": 279
        },
        "id": "qsl3WJtQgMVl",
        "outputId": "330a03ec-12ee-40a4-c042-ec2d2d318719"
      },
      "source": [
        "plt.plot(retention_frac, frac_list)\n",
        "plt.ylabel('RMSE/RMV')\n",
        "plt.xlabel(\"Retention fraction\")\n",
        "plt.show()"
      ],
      "execution_count": null,
      "outputs": [
        {
          "output_type": "display_data",
          "data": {
            "image/png": "[encoded data removed]",
            "text/plain": [
              "<Figure size 432x288 with 1 Axes>"
            ]
          },
          "metadata": {
            "needs_background": "light"
          }
        }
      ]
    },
    {
      "cell_type": "markdown",
      "metadata": {
        "id": "JZCaGHbssylQ"
      },
      "source": [
        "## Combined R3 Plot"
      ]
    },
    {
      "cell_type": "code",
      "metadata": {
        "colab": {
          "base_uri": "https://localhost:8080/",
          "height": 296
        },
        "id": "JR3W5SNCgH4V",
        "outputId": "98eace76-267c-470d-afb7-8e99f91bbbb2"
      },
      "source": [
        "plt.plot(ret_frac_single, frac_single)\n",
        "plt.plot(ret_frac_list_ens, frac_list_ens)\n",
        "plt.ylabel('RMSE/RMV')\n",
        "plt.xlabel(\"Retention fraction\")\n",
        "plt.legend(['Single', 'Ensemble'])"
      ],
      "execution_count": null,
      "outputs": [
        {
          "output_type": "execute_result",
          "data": {
            "text/plain": [
              "<matplotlib.legend.Legend at 0x7f3859b85450>"
            ]
          },
          "metadata": {},
          "execution_count": 38
        },
        {
          "output_type": "display_data",
          "data": {
            "image/png": "[encoded data removed]",
            "text/plain": [
              "<Figure size 432x288 with 1 Axes>"
            ]
          },
          "metadata": {
            "needs_background": "light"
          }
        }
      ]
    }
  ]
}